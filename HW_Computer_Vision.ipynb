{
  "cells": [
    {
      "cell_type": "markdown",
      "metadata": {
        "id": "tR3xKAceYbTp"
      },
      "source": [
        "## Домашнее задание. Компьютерное зрение."
      ]
    },
    {
      "cell_type": "markdown",
      "metadata": {
        "id": "bfsj7c_WYfZ3"
      },
      "source": [
        "### Задача: Обучаем нейросеть на датасете MNIST\n",
        "1. Загрузить датасет MNIST (изображение рукописных цифр)\n",
        "2. Построить с помощью библиотеки Torch сверточную нейросеть.\n",
        "  *)сверточная нейросеть представляет из себя один ResNet блок c пуллингом после первого сверточного слоя.\n",
        "3. Обучить сеть.\n",
        "4. Сравнить значения функции потерь и метрик качества на train и test.\n",
        "5. Написать краткий вывод с идеями по улучшению моделии процесса обучения.Результат:\n",
        "- ноутбук с кодом обучения\n",
        "- обученная модель\n",
        "Оценки:\n",
        "8 баллов за обучение сверточной нейросети.\n",
        "+2 балла если нейросеть представляет собой ResNetблок.\n",
        "Дедлайн:28октября\n"
      ]
    },
    {
      "cell_type": "markdown",
      "metadata": {
        "id": "fstHIW8kp23k"
      },
      "source": [
        "## Импорты"
      ]
    },
    {
      "cell_type": "code",
      "execution_count": 2,
      "metadata": {
        "id": "JUdjSQFsp7yM"
      },
      "outputs": [],
      "source": [
        "import torch  # PyTorch\n",
        "import torch.nn as nn   # слои нейронных сетей\n",
        "import torch.optim as optim   # оптимизаторы\n",
        "import torchvision    # для компьютерного зрения\n",
        "import torchvision.transforms as transforms\n",
        "import torch.nn.functional as F  # для подключения функций активации\n",
        "from torchsummary import summary    # сводная информация о нейронной сети\n",
        "\n",
        "import matplotlib.pyplot as plt   # графики\n",
        "from tqdm import tqdm   # для отслеживания информации в цикле\n",
        "from sklearn.metrics import confusion_matrix  # confusion matrix (матрица ошибок). для определения метрик качества\n",
        "from sklearn.metrics import accuracy_score, recall_score, precision_score, roc_auc_score    # метрики из sklearn\n"
      ]
    },
    {
      "cell_type": "markdown",
      "metadata": {
        "id": "HvUKHrpn9Lhu"
      },
      "source": [
        "### Версия Torch, константы, вспомогательные функции"
      ]
    },
    {
      "cell_type": "code",
      "execution_count": 3,
      "metadata": {
        "colab": {
          "base_uri": "https://localhost:8080/"
        },
        "id": "FeBfP_qCqDVs",
        "outputId": "2118f36f-01ef-4997-f6ab-47a201a06e35"
      },
      "outputs": [
        {
          "output_type": "stream",
          "name": "stdout",
          "text": [
            "Версия torch. torch.__version__='2.5.0+cu121'\n"
          ]
        }
      ],
      "source": [
        "# версия torch\n",
        "print(f'Версия torch. {torch.__version__=}')"
      ]
    },
    {
      "cell_type": "code",
      "execution_count": 4,
      "metadata": {
        "id": "Ei3zVDcsCos5"
      },
      "outputs": [],
      "source": [
        "# размер batch\n",
        "batch_size = 64\n",
        "\n",
        "# Количество эпох\n",
        "num_epochs = 10\n",
        "\n",
        "# Скорость обучения\n",
        "learning_rate = 1"
      ]
    },
    {
      "cell_type": "code",
      "execution_count": 5,
      "metadata": {
        "colab": {
          "base_uri": "https://localhost:8080/"
        },
        "id": "jHCYZtIZ-Mei",
        "outputId": "2e514335-842b-4922-ee4e-f787315537be"
      },
      "outputs": [
        {
          "output_type": "execute_result",
          "data": {
            "text/plain": [
              "device(type='cuda')"
            ]
          },
          "metadata": {},
          "execution_count": 5
        }
      ],
      "source": [
        "# определение device\n",
        "device = torch.device('cuda' if torch.cuda.is_available() else 'cpu')  # 'mps' for Mac\n",
        "device"
      ]
    },
    {
      "cell_type": "code",
      "execution_count": 6,
      "metadata": {
        "id": "GctSIugyvmFE"
      },
      "outputs": [],
      "source": [
        "# Функция вычисления метрик\n",
        "def get_metrics(model, y_pred, y_test) -> dict:\n",
        "  return({\n",
        "      'model': model.__str__(),\n",
        "      'accuracy_score' : round(accuracy_score(y_pred, y_test), 3),\n",
        "      'recall_score' : round(recall_score(y_pred, y_test, average='weighted'), 3),\n",
        "      'precision_score' : round(precision_score(y_pred, y_test, average='weighted'), 3)\n",
        "  })"
      ]
    },
    {
      "cell_type": "markdown",
      "metadata": {
        "id": "rxGn7bWarUR6"
      },
      "source": [
        "## Модели"
      ]
    },
    {
      "cell_type": "markdown",
      "metadata": {
        "id": "fFF6UBwtteja"
      },
      "source": [
        "### Linear Model"
      ]
    },
    {
      "cell_type": "code",
      "execution_count": 180,
      "metadata": {
        "id": "Y3WPttdptjDS"
      },
      "outputs": [],
      "source": [
        "class LinearModel(nn.Module):\n",
        "    def __init__(self):\n",
        "        super().__init__()\n",
        "        self.fc_1 = nn.Linear(28*28, 100)\n",
        "        self.activation = nn.Sigmoid()\n",
        "        self.fc_2 = nn.Linear(100, 10)\n",
        "\n",
        "    def forward(self, x: torch.Tensor):  # размерность тензора: Batch * Channel * H * W -> Batch * (HxW)\n",
        "        # преобразуем в вектор. -1 - работаем с любым размером batch (размер определяется автоматически)\n",
        "        x = x.view((-1, 28*28))\n",
        "        x = self.fc_1(x)\n",
        "        x = self.activation(x)\n",
        "        x = self.fc_2(x)\n",
        "        # output = LinaerModel(input)\n",
        "        return x"
      ]
    },
    {
      "cell_type": "markdown",
      "metadata": {
        "id": "NfGo9M8HrdxE"
      },
      "source": [
        "### CNN Model"
      ]
    },
    {
      "cell_type": "code",
      "execution_count": 7,
      "metadata": {
        "id": "ZKvxbweirZTw"
      },
      "outputs": [],
      "source": [
        "class CNNModel(nn.Module):\n",
        "    def __init__(self):\n",
        "        super().__init__()\n",
        "        # 1-й свёрточный слой. in_channels=1, т.к. изображение ч/б; out_channels=16, т.е. на выходе 16 карт активации (16 признаков)\n",
        "        self.conv_1 = nn.Conv2d(in_channels=1, out_channels=16, kernel_size=5, padding=2)   # Применяет двумерную свертку к входному сигналу, состоящему из нескольких входных плоскостей\n",
        "        # уменьшим размер свёрточного фильтра kernel_size=3 и padding=1\n",
        "        # self.conv_1 = nn.Conv2d(in_channels=1, out_channels=16, kernel_size=3, padding=1)\n",
        "        self.activation = nn.Tanh()         # Функция активации - гиперболический тангенс\n",
        "        self.pool = nn.MaxPool2d(kernel_size=(2, 2))    # pooling. Уменьшает размер входных данных по их пространственным измерениям (высоте и ширине), беря максимальное значение по входному окну (размер которого определяется pool_size) для каждого канала входных данных. Окно смещается на шаги по каждому измерению.\n",
        "        # 2-й свёрточный слой.\n",
        "        self.conv_2 = nn.Conv2d(in_channels=16, out_channels=32, kernel_size=3, padding=1)  # Двумерная свёртка\n",
        "        # 3-й свёрточный слой.\n",
        "        self.conv_3 = nn.Conv2d(in_channels=32, out_channels=32, kernel_size=3, padding=1)  # Двумерная свёртка\n",
        "        # линейный слой\n",
        "        self.fc = nn.Linear(7*7*32, 10)\n",
        "\n",
        "    # в свёрточных сетях полезно прописывать размерности по каждому слою\n",
        "    def forward(self, x: torch.Tensor): # размерность тензора: Batch * C * H * W: 64 * 1 * 28 * 28, где C - количество каналов\n",
        "        x = self.conv_1(x)              # размерность тензора: Batch * C * H * W: 64 * 16 * 28 * 28\n",
        "        x = self.activation(x)          # размерность тензора: Batch * C * H * W: 64 * 16 * 28 * 28\n",
        "        x = self.pool(x)                # размерность тензора: Batch * C * H * W: 64 * 16 * 14 * 14\n",
        "        x = self.conv_2(x)              # размерность тензора: Batch * C * H * W: 64 * 32 * 14 * 14\n",
        "        x = self.activation(x)          # размерность тензора: Batch * C * H * W: 64 * 32 * 14 * 14\n",
        "        x = self.pool(x)                # размерность тензора: Batch * C * H * W: 64 * 32 * 7 * 7\n",
        "        x = self.conv_3(x)              # размерность тензора: Batch * C * H * W: 64 * 32 * 7 * 7\n",
        "        x = self.activation(x)          # размерность тензора: Batch * C * H * W: 64 * 32 * 7 * 7\n",
        "        x = x.view((-1, 7*7*32))        # размерность тензора: Batch * C * H * W: 64 * (7*7*32)\n",
        "        x = self.fc(x)                  # размерность тензора: Batch * C * H * W: 64 * 10\n",
        "        return x"
      ]
    },
    {
      "cell_type": "markdown",
      "metadata": {
        "id": "0Syy_CuJYPMS"
      },
      "source": [
        "### ResNet Model"
      ]
    },
    {
      "cell_type": "code",
      "execution_count": 8,
      "metadata": {
        "id": "wOHcEEMz7QPo"
      },
      "outputs": [],
      "source": [
        "class ResNetModel(nn.Module):\n",
        "    def __init__(self):\n",
        "        super().__init__()\n",
        "        # 1-й свёрточный слой.\n",
        "        self.conv_1 = nn.Conv2d(in_channels=1, out_channels=16, kernel_size=5, padding=2)\n",
        "        self.activation = nn.Tanh()\n",
        "        self.pool = nn.AvgPool2d(kernel_size=(2, 2))\n",
        "        # 2-й свёрточный слой.\n",
        "        self.conv_2 = nn.Conv2d(in_channels=16, out_channels=32, kernel_size=3, padding=1)\n",
        "        # 3-й свёрточный слой.\n",
        "        self.conv_3 = nn.Conv2d(in_channels=32, out_channels=32, kernel_size=3, padding=1)\n",
        "        # линейный слой\n",
        "        self.fc = nn.Linear(7*7*32, 10)\n",
        "\n",
        "        # слой для skip connection (для создания тензора необходимой размерности)\n",
        "        # self.skip_conn = nn.Conv2d(in_channels=1, out_channels=32, kernel_size=1, padding=0, stride=4)\n",
        "        # self.skip_conn = nn.Conv2d(in_channels=1, out_channels=32, kernel_size=1, padding=0, stride=2)\n",
        "        self.skip_conn = nn.Conv2d(in_channels=16, out_channels=32, kernel_size=1, padding=0, stride=2)\n",
        "\n",
        "    def forward(self, x: torch.Tensor): # размерность тензора x_input: Batch * C * H * W: 64 * 1 * 28 * 28\n",
        "\n",
        "        x = self.conv_1(x)              # размерность тензора: Batch * C * H * W: 64 * 16 * 28 * 28\n",
        "        x = self.activation(x)          # размерность тензора: Batch * C * H * W: 64 * 16 * 28 * 28\n",
        "        x = self.pool(x)                # размерность тензора: Batch * C * H * W: 64 * 16 * 14 * 14\n",
        "\n",
        "        # преобразуем тензор к необходимому размеру (размер тензора третьего свёрточного слоя)\n",
        "        x_input = self.skip_conn(x)     # размерность тензора x_input: Batch * 64 * 32 * 7 * 7\n",
        "\n",
        "        x = self.conv_2(x)              # размерность тензора: Batch * C * H * W: 64 * 32 * 14 * 14\n",
        "        x = self.activation(x)          # размерность тензора: Batch * C * H * W: 64 * 32 * 14 * 14\n",
        "        x = self.pool(x)                # размерность тензора: Batch * C * H * W: 64 * 32 * 7 * 7\n",
        "        x = self.conv_3(x)              # размерность тензора: Batch * C * H * W: 64 * 32 * 7 * 7\n",
        "\n",
        "        # суммируем тензор x (тензор после третьего свёрточного слоя) и x_input (входной тензор после преобразования)\n",
        "        x = torch.add(x, x_input)\n",
        "\n",
        "        x = self.activation(x)          # размерность тензора: Batch * C * H * W: 64 * 32 * 7 * 7\n",
        "        x = x.view((-1, 7*7*32))        # размерность тензора: Batch * C * H * W: 64 * (7*7*32)\n",
        "        x = self.fc(x)                  # размерность тензора: Batch * C * H * W: 64 * 10\n",
        "        return x"
      ]
    },
    {
      "cell_type": "markdown",
      "metadata": {
        "id": "JZjxpcI28qhm"
      },
      "source": [
        "## Загрузка датасета MINST (изображение рукописных цифр)"
      ]
    },
    {
      "cell_type": "code",
      "execution_count": 9,
      "metadata": {
        "colab": {
          "base_uri": "https://localhost:8080/"
        },
        "id": "CuBwTfWw8yjm",
        "outputId": "30bdcc71-05f0-4a21-bd81-ae405950c873"
      },
      "outputs": [
        {
          "output_type": "execute_result",
          "data": {
            "text/plain": [
              "Compose(\n",
              "    ToTensor()\n",
              "    Normalize(mean=[0.0], std=[1.0])\n",
              ")"
            ]
          },
          "metadata": {},
          "execution_count": 9
        }
      ],
      "source": [
        "# Data Normalization\n",
        "# Набор трансформаций\n",
        "# Загрузка и нормализация данных. transforms.Compose формирует конвейер преобразования, через который проходят ВСЕ изображения при входе в модель для обучения.\n",
        "# В torchvision.transforms.Normalize на вход передаются среднее и отклонение для каждого канала. Среднее: torch.mean(), отклонение: torch.std().\n",
        "transform = transforms.Compose([transforms.ToTensor(),                # преобразуем в тензор\n",
        "                                transforms.Normalize([0.0], [1.])]    # нормализуем (среднее, дисперсия)\n",
        "                               )\n",
        "transform"
      ]
    },
    {
      "cell_type": "code",
      "execution_count": 10,
      "metadata": {
        "colab": {
          "base_uri": "https://localhost:8080/"
        },
        "collapsed": true,
        "id": "0T2L7ZRaA0sb",
        "outputId": "8d3bcc62-beab-4c23-c3ec-c6af5513d8f9"
      },
      "outputs": [
        {
          "output_type": "stream",
          "name": "stdout",
          "text": [
            "Downloading http://yann.lecun.com/exdb/mnist/train-images-idx3-ubyte.gz\n",
            "Failed to download (trying next):\n",
            "<urlopen error [SSL: CERTIFICATE_VERIFY_FAILED] certificate verify failed: certificate has expired (_ssl.c:1007)>\n",
            "\n",
            "Downloading https://ossci-datasets.s3.amazonaws.com/mnist/train-images-idx3-ubyte.gz\n",
            "Downloading https://ossci-datasets.s3.amazonaws.com/mnist/train-images-idx3-ubyte.gz to data/MNIST/raw/train-images-idx3-ubyte.gz\n"
          ]
        },
        {
          "output_type": "stream",
          "name": "stderr",
          "text": [
            "100%|██████████| 9.91M/9.91M [00:00<00:00, 14.8MB/s]\n"
          ]
        },
        {
          "output_type": "stream",
          "name": "stdout",
          "text": [
            "Extracting data/MNIST/raw/train-images-idx3-ubyte.gz to data/MNIST/raw\n",
            "\n",
            "Downloading http://yann.lecun.com/exdb/mnist/train-labels-idx1-ubyte.gz\n",
            "Failed to download (trying next):\n",
            "<urlopen error [SSL: CERTIFICATE_VERIFY_FAILED] certificate verify failed: certificate has expired (_ssl.c:1007)>\n",
            "\n",
            "Downloading https://ossci-datasets.s3.amazonaws.com/mnist/train-labels-idx1-ubyte.gz\n",
            "Downloading https://ossci-datasets.s3.amazonaws.com/mnist/train-labels-idx1-ubyte.gz to data/MNIST/raw/train-labels-idx1-ubyte.gz\n"
          ]
        },
        {
          "output_type": "stream",
          "name": "stderr",
          "text": [
            "100%|██████████| 28.9k/28.9k [00:00<00:00, 497kB/s]\n"
          ]
        },
        {
          "output_type": "stream",
          "name": "stdout",
          "text": [
            "Extracting data/MNIST/raw/train-labels-idx1-ubyte.gz to data/MNIST/raw\n",
            "\n",
            "Downloading http://yann.lecun.com/exdb/mnist/t10k-images-idx3-ubyte.gz\n",
            "Failed to download (trying next):\n",
            "<urlopen error [SSL: CERTIFICATE_VERIFY_FAILED] certificate verify failed: certificate has expired (_ssl.c:1007)>\n",
            "\n",
            "Downloading https://ossci-datasets.s3.amazonaws.com/mnist/t10k-images-idx3-ubyte.gz\n",
            "Downloading https://ossci-datasets.s3.amazonaws.com/mnist/t10k-images-idx3-ubyte.gz to data/MNIST/raw/t10k-images-idx3-ubyte.gz\n"
          ]
        },
        {
          "output_type": "stream",
          "name": "stderr",
          "text": [
            "100%|██████████| 1.65M/1.65M [00:00<00:00, 4.52MB/s]\n"
          ]
        },
        {
          "output_type": "stream",
          "name": "stdout",
          "text": [
            "Extracting data/MNIST/raw/t10k-images-idx3-ubyte.gz to data/MNIST/raw\n",
            "\n",
            "Downloading http://yann.lecun.com/exdb/mnist/t10k-labels-idx1-ubyte.gz\n",
            "Failed to download (trying next):\n",
            "<urlopen error [SSL: CERTIFICATE_VERIFY_FAILED] certificate verify failed: certificate has expired (_ssl.c:1007)>\n",
            "\n",
            "Downloading https://ossci-datasets.s3.amazonaws.com/mnist/t10k-labels-idx1-ubyte.gz\n",
            "Downloading https://ossci-datasets.s3.amazonaws.com/mnist/t10k-labels-idx1-ubyte.gz to data/MNIST/raw/t10k-labels-idx1-ubyte.gz\n"
          ]
        },
        {
          "output_type": "stream",
          "name": "stderr",
          "text": [
            "100%|██████████| 4.54k/4.54k [00:00<00:00, 10.9MB/s]"
          ]
        },
        {
          "output_type": "stream",
          "name": "stdout",
          "text": [
            "Extracting data/MNIST/raw/t10k-labels-idx1-ubyte.gz to data/MNIST/raw\n",
            "\n"
          ]
        },
        {
          "output_type": "stream",
          "name": "stderr",
          "text": [
            "\n"
          ]
        }
      ],
      "source": [
        "# MNIST dataset\n",
        "# импортируем из библиотеки torchvision\n",
        "# Тренировочный датасет\n",
        "train_dataset = torchvision.datasets.MNIST(root='data',           # куда положить датасет\n",
        "                                           train=True,            # тренировочная часть датасета\n",
        "                                           transform=transform,   # необходимые трансформации с данными перед загрузкой в датасет\n",
        "                                           download=True)         # скачиваем\n",
        "\n",
        "# Тестовый датасет\n",
        "test_dataset = torchvision.datasets.MNIST(root='data',\n",
        "                                          train=False,\n",
        "                                          transform=transform)"
      ]
    },
    {
      "cell_type": "code",
      "execution_count": 11,
      "metadata": {
        "colab": {
          "base_uri": "https://localhost:8080/"
        },
        "id": "DcCN8rcbBGpy",
        "outputId": "0e0e9e83-24ad-45d3-b4b2-0adff5f27e1d"
      },
      "outputs": [
        {
          "output_type": "execute_result",
          "data": {
            "text/plain": [
              "Dataset MNIST\n",
              "    Number of datapoints: 60000\n",
              "    Root location: data\n",
              "    Split: Train\n",
              "    StandardTransform\n",
              "Transform: Compose(\n",
              "               ToTensor()\n",
              "               Normalize(mean=[0.0], std=[1.0])\n",
              "           )"
            ]
          },
          "metadata": {},
          "execution_count": 11
        }
      ],
      "source": [
        "train_dataset"
      ]
    },
    {
      "cell_type": "code",
      "execution_count": 12,
      "metadata": {
        "colab": {
          "base_uri": "https://localhost:8080/"
        },
        "id": "kVLEm9MlBGlZ",
        "outputId": "9b36e160-4f30-441a-d2bd-7e912737a066"
      },
      "outputs": [
        {
          "output_type": "execute_result",
          "data": {
            "text/plain": [
              "Dataset MNIST\n",
              "    Number of datapoints: 10000\n",
              "    Root location: data\n",
              "    Split: Test\n",
              "    StandardTransform\n",
              "Transform: Compose(\n",
              "               ToTensor()\n",
              "               Normalize(mean=[0.0], std=[1.0])\n",
              "           )"
            ]
          },
          "metadata": {},
          "execution_count": 12
        }
      ],
      "source": [
        "test_dataset"
      ]
    },
    {
      "cell_type": "code",
      "execution_count": 13,
      "metadata": {
        "id": "9gNxKSXDA0pf"
      },
      "outputs": [],
      "source": [
        "# Data loader. Загрузчик. Класс, который работает с датасетом и помогает грузить по batch.\n",
        "\n",
        "train_dataloader = torch.utils.data.DataLoader(dataset=train_dataset,   # выбираем датасет\n",
        "                                               batch_size=batch_size,   # размер batch\n",
        "                                               shuffle=True)            # Перемешивать (получить в случайном порядке)\n",
        "\n",
        "test_dataloader = torch.utils.data.DataLoader(dataset=test_dataset,\n",
        "                                              batch_size=batch_size,\n",
        "                                              shuffle=False)"
      ]
    },
    {
      "cell_type": "code",
      "execution_count": 14,
      "metadata": {
        "colab": {
          "base_uri": "https://localhost:8080/"
        },
        "id": "AiJpFa9zA0mK",
        "outputId": "069e55f0-fbac-4903-ccd9-04d8dc9651b6"
      },
      "outputs": [
        {
          "output_type": "execute_result",
          "data": {
            "text/plain": [
              "<torch.utils.data.dataloader.DataLoader at 0x7a550b3292a0>"
            ]
          },
          "metadata": {},
          "execution_count": 14
        }
      ],
      "source": [
        "train_dataloader"
      ]
    },
    {
      "cell_type": "code",
      "execution_count": 15,
      "metadata": {
        "colab": {
          "base_uri": "https://localhost:8080/"
        },
        "id": "rtgc9I3S9N9f",
        "outputId": "7925f925-82f5-49d9-ddce-98579a0d0deb"
      },
      "outputs": [
        {
          "output_type": "execute_result",
          "data": {
            "text/plain": [
              "938"
            ]
          },
          "metadata": {},
          "execution_count": 15
        }
      ],
      "source": [
        "len(train_dataloader)"
      ]
    },
    {
      "cell_type": "code",
      "execution_count": 16,
      "metadata": {
        "colab": {
          "base_uri": "https://localhost:8080/"
        },
        "id": "oY2GRLZSA0i9",
        "outputId": "9cfabae0-2149-4dba-aeeb-d58f5d6b3ea9"
      },
      "outputs": [
        {
          "output_type": "execute_result",
          "data": {
            "text/plain": [
              "<torch.utils.data.dataloader.DataLoader at 0x7a55e4f17ee0>"
            ]
          },
          "metadata": {},
          "execution_count": 16
        }
      ],
      "source": [
        "test_dataloader"
      ]
    },
    {
      "cell_type": "code",
      "execution_count": 17,
      "metadata": {
        "colab": {
          "base_uri": "https://localhost:8080/"
        },
        "collapsed": true,
        "id": "WWu3SjbwdwXu",
        "outputId": "5ad5b792-b30f-441e-ff09-822d229fc8fb"
      },
      "outputs": [
        {
          "output_type": "execute_result",
          "data": {
            "text/plain": [
              "[tensor([[[[0., 0., 0.,  ..., 0., 0., 0.],\n",
              "           [0., 0., 0.,  ..., 0., 0., 0.],\n",
              "           [0., 0., 0.,  ..., 0., 0., 0.],\n",
              "           ...,\n",
              "           [0., 0., 0.,  ..., 0., 0., 0.],\n",
              "           [0., 0., 0.,  ..., 0., 0., 0.],\n",
              "           [0., 0., 0.,  ..., 0., 0., 0.]]],\n",
              " \n",
              " \n",
              "         [[[0., 0., 0.,  ..., 0., 0., 0.],\n",
              "           [0., 0., 0.,  ..., 0., 0., 0.],\n",
              "           [0., 0., 0.,  ..., 0., 0., 0.],\n",
              "           ...,\n",
              "           [0., 0., 0.,  ..., 0., 0., 0.],\n",
              "           [0., 0., 0.,  ..., 0., 0., 0.],\n",
              "           [0., 0., 0.,  ..., 0., 0., 0.]]],\n",
              " \n",
              " \n",
              "         [[[0., 0., 0.,  ..., 0., 0., 0.],\n",
              "           [0., 0., 0.,  ..., 0., 0., 0.],\n",
              "           [0., 0., 0.,  ..., 0., 0., 0.],\n",
              "           ...,\n",
              "           [0., 0., 0.,  ..., 0., 0., 0.],\n",
              "           [0., 0., 0.,  ..., 0., 0., 0.],\n",
              "           [0., 0., 0.,  ..., 0., 0., 0.]]],\n",
              " \n",
              " \n",
              "         ...,\n",
              " \n",
              " \n",
              "         [[[0., 0., 0.,  ..., 0., 0., 0.],\n",
              "           [0., 0., 0.,  ..., 0., 0., 0.],\n",
              "           [0., 0., 0.,  ..., 0., 0., 0.],\n",
              "           ...,\n",
              "           [0., 0., 0.,  ..., 0., 0., 0.],\n",
              "           [0., 0., 0.,  ..., 0., 0., 0.],\n",
              "           [0., 0., 0.,  ..., 0., 0., 0.]]],\n",
              " \n",
              " \n",
              "         [[[0., 0., 0.,  ..., 0., 0., 0.],\n",
              "           [0., 0., 0.,  ..., 0., 0., 0.],\n",
              "           [0., 0., 0.,  ..., 0., 0., 0.],\n",
              "           ...,\n",
              "           [0., 0., 0.,  ..., 0., 0., 0.],\n",
              "           [0., 0., 0.,  ..., 0., 0., 0.],\n",
              "           [0., 0., 0.,  ..., 0., 0., 0.]]],\n",
              " \n",
              " \n",
              "         [[[0., 0., 0.,  ..., 0., 0., 0.],\n",
              "           [0., 0., 0.,  ..., 0., 0., 0.],\n",
              "           [0., 0., 0.,  ..., 0., 0., 0.],\n",
              "           ...,\n",
              "           [0., 0., 0.,  ..., 0., 0., 0.],\n",
              "           [0., 0., 0.,  ..., 0., 0., 0.],\n",
              "           [0., 0., 0.,  ..., 0., 0., 0.]]]]),\n",
              " tensor([2, 5, 8, 7, 0, 5, 2, 4, 5, 3, 5, 6, 7, 3, 9, 1, 9, 4, 2, 0, 7, 8, 2, 2,\n",
              "         4, 8, 6, 0, 3, 2, 9, 8, 3, 8, 9, 4, 6, 1, 3, 8, 2, 4, 7, 3, 4, 5, 1, 6,\n",
              "         8, 7, 8, 9, 3, 5, 9, 1, 8, 4, 1, 5, 4, 1, 7, 3])]"
            ]
          },
          "metadata": {},
          "execution_count": 17
        }
      ],
      "source": [
        "next(iter(train_dataloader))"
      ]
    },
    {
      "cell_type": "code",
      "execution_count": 18,
      "metadata": {
        "id": "G3HgKl2HDRAw"
      },
      "outputs": [],
      "source": [
        "# item (элемент) - tensor, label (метка) - tensor\n",
        "item, label = next(iter(train_dataloader))"
      ]
    },
    {
      "cell_type": "code",
      "execution_count": 19,
      "metadata": {
        "colab": {
          "base_uri": "https://localhost:8080/"
        },
        "id": "L2v1ldr-6aC0",
        "outputId": "557229b4-c68f-48ce-ce80-582a9a457b3b"
      },
      "outputs": [
        {
          "output_type": "execute_result",
          "data": {
            "text/plain": [
              "torch.Size([64, 1, 28, 28])"
            ]
          },
          "metadata": {},
          "execution_count": 19
        }
      ],
      "source": [
        "item.shape"
      ]
    },
    {
      "cell_type": "code",
      "execution_count": 20,
      "metadata": {
        "colab": {
          "base_uri": "https://localhost:8080/"
        },
        "id": "KPed8Gf_yJq5",
        "outputId": "18d9d8ef-ff49-4838-fbf9-67880f60914e"
      },
      "outputs": [
        {
          "output_type": "execute_result",
          "data": {
            "text/plain": [
              "torch.Size([64])"
            ]
          },
          "metadata": {},
          "execution_count": 20
        }
      ],
      "source": [
        "label.shape"
      ]
    },
    {
      "cell_type": "code",
      "execution_count": 21,
      "metadata": {
        "colab": {
          "base_uri": "https://localhost:8080/"
        },
        "collapsed": true,
        "id": "SxekU3Gk7puN",
        "outputId": "45bca654-5968-48fc-df4b-979e58baf854"
      },
      "outputs": [
        {
          "output_type": "execute_result",
          "data": {
            "text/plain": [
              "tensor([2, 0, 0, 7, 0, 1, 4, 0, 7, 0, 4, 4, 1, 5, 6, 5, 7, 2, 3, 8, 8, 7, 4, 1,\n",
              "        4, 6, 7, 7, 7, 2, 6, 8, 4, 7, 3, 2, 9, 6, 8, 9, 3, 5, 2, 6, 9, 1, 8, 7,\n",
              "        3, 4, 1, 5, 9, 5, 3, 7, 0, 1, 0, 4, 4, 9, 5, 4])"
            ]
          },
          "metadata": {},
          "execution_count": 21
        }
      ],
      "source": [
        "label"
      ]
    },
    {
      "cell_type": "code",
      "execution_count": 22,
      "metadata": {
        "colab": {
          "base_uri": "https://localhost:8080/",
          "height": 487
        },
        "id": "wzbDRNEZA0ci",
        "outputId": "085ee57e-1a88-493a-ad7a-e2c8e0f9c7c8"
      },
      "outputs": [
        {
          "output_type": "stream",
          "name": "stdout",
          "text": [
            "Учитель. label[index].item()=2\n"
          ]
        },
        {
          "output_type": "execute_result",
          "data": {
            "text/plain": [
              "Text(0.5, 1.0, 'tensor(2)')"
            ]
          },
          "metadata": {},
          "execution_count": 22
        },
        {
          "output_type": "display_data",
          "data": {
            "text/plain": [
              "<Figure size 640x480 with 1 Axes>"
            ],
            "image/png": "[encoded data removed]"
          },
          "metadata": {}
        }
      ],
      "source": [
        "# Посмотрим, что загрузилось\n",
        "# индекс картинки в batch\n",
        "index = 0\n",
        "print(f'Учитель. {label[index].item()=}')\n",
        "picture = item[index, 0]\n",
        "\n",
        "# fig, ax = plt.subplots(nrows=1, ncols=2)\n",
        "plt.imshow(picture, cmap='gray')\n",
        "plt.title(label[index])"
      ]
    },
    {
      "cell_type": "markdown",
      "metadata": {
        "id": "kEkPD1XB81ep"
      },
      "source": [
        "## Обучение сети"
      ]
    },
    {
      "cell_type": "markdown",
      "metadata": {
        "id": "AhdGf49V2m70"
      },
      "source": [
        "### Подготовка"
      ]
    },
    {
      "cell_type": "code",
      "execution_count": 23,
      "metadata": {
        "colab": {
          "base_uri": "https://localhost:8080/"
        },
        "id": "AtzKFHE42uQH",
        "outputId": "d98fd03a-6411-4635-a152-82e4c05388bf"
      },
      "outputs": [
        {
          "output_type": "stream",
          "name": "stdout",
          "text": [
            "----------------------------------------------------------------\n",
            "        Layer (type)               Output Shape         Param #\n",
            "================================================================\n",
            "            Conv2d-1           [-1, 16, 28, 28]             416\n",
            "              Tanh-2           [-1, 16, 28, 28]               0\n",
            "         AvgPool2d-3           [-1, 16, 14, 14]               0\n",
            "            Conv2d-4             [-1, 32, 7, 7]             544\n",
            "            Conv2d-5           [-1, 32, 14, 14]           4,640\n",
            "              Tanh-6           [-1, 32, 14, 14]               0\n",
            "         AvgPool2d-7             [-1, 32, 7, 7]               0\n",
            "            Conv2d-8             [-1, 32, 7, 7]           9,248\n",
            "              Tanh-9             [-1, 32, 7, 7]               0\n",
            "           Linear-10                   [-1, 10]          15,690\n",
            "================================================================\n",
            "Total params: 30,538\n",
            "Trainable params: 30,538\n",
            "Non-trainable params: 0\n",
            "----------------------------------------------------------------\n",
            "Input size (MB): 0.00\n",
            "Forward/backward pass size (MB): 0.36\n",
            "Params size (MB): 0.12\n",
            "Estimated Total Size (MB): 0.48\n",
            "----------------------------------------------------------------\n"
          ]
        }
      ],
      "source": [
        "# ПОДГОТОВКА\n",
        "# Создаём модель\n",
        "# линейная модель\n",
        "# model = LinearModel()\n",
        "# свёрточная модель\n",
        "# model = CNNModel()\n",
        "# свёрточная модель (один ResNet блок)\n",
        "model = ResNetModel()\n",
        "\n",
        "# оптимизатор\n",
        "optimizer = torch.optim.SGD(lr=learning_rate, params=model.parameters())\n",
        "# функция потерь\n",
        "# BCEWithLogitsLoss() соединяет Sigmoid и BCELoss в одном классе. Работает более стабильно.\n",
        "loss_function = nn.BCEWithLogitsLoss()\n",
        "# loss_function = nn.CrossEntropyLoss()\n",
        "\n",
        "# scheduler изменяет learning_rate в зависимости от расписания. в данной задаче можно работать без него.\n",
        "scheduler = torch.optim.lr_scheduler.CosineAnnealingLR(optimizer, T_max=1000) # cos((1000 / 1000) * pi) * lr -> eta_min\n",
        "\n",
        "# сводная информация о модели\n",
        "summary(model.to(device), (1, 28, 28))"
      ]
    },
    {
      "cell_type": "markdown",
      "metadata": {
        "id": "lFic3uKn2sOe"
      },
      "source": [
        "### Обучение модели"
      ]
    },
    {
      "cell_type": "code",
      "execution_count": 24,
      "metadata": {
        "colab": {
          "base_uri": "https://localhost:8080/"
        },
        "id": "PKmoFyGi2uXS",
        "outputId": "30fb6f4a-3fc2-46e3-d31d-1f7c92aa7891"
      },
      "outputs": [
        {
          "output_type": "stream",
          "name": "stderr",
          "text": [
            "\r  0%|          | 0/10 [00:00<?, ?it/s]"
          ]
        },
        {
          "output_type": "stream",
          "name": "stdout",
          "text": [
            "Epoch [1/10], Step [100/938], Loss: 0.0762\n",
            "Epoch [1/10], Step [200/938], Loss: 0.0661\n",
            "Epoch [1/10], Step [300/938], Loss: 0.0488\n",
            "Epoch [1/10], Step [400/938], Loss: 0.0455\n",
            "Epoch [1/10], Step [500/938], Loss: 0.0299\n",
            "Epoch [1/10], Step [600/938], Loss: 0.0267\n",
            "Epoch [1/10], Step [700/938], Loss: 0.0295\n",
            "Epoch [1/10], Step [800/938], Loss: 0.0204\n",
            "Epoch [1/10], Step [900/938], Loss: 0.0326\n"
          ]
        },
        {
          "output_type": "stream",
          "name": "stderr",
          "text": [
            "\r 10%|█         | 1/10 [00:18<02:42, 18.09s/it]"
          ]
        },
        {
          "output_type": "stream",
          "name": "stdout",
          "text": [
            "Epoch [2/10], Step [100/938], Loss: 0.0253\n",
            "Epoch [2/10], Step [200/938], Loss: 0.0216\n",
            "Epoch [2/10], Step [300/938], Loss: 0.0303\n",
            "Epoch [2/10], Step [400/938], Loss: 0.0204\n",
            "Epoch [2/10], Step [500/938], Loss: 0.0632\n",
            "Epoch [2/10], Step [600/938], Loss: 0.0225\n",
            "Epoch [2/10], Step [700/938], Loss: 0.0303\n",
            "Epoch [2/10], Step [800/938], Loss: 0.0170\n",
            "Epoch [2/10], Step [900/938], Loss: 0.0214\n"
          ]
        },
        {
          "output_type": "stream",
          "name": "stderr",
          "text": [
            "\r 20%|██        | 2/10 [00:33<02:13, 16.69s/it]"
          ]
        },
        {
          "output_type": "stream",
          "name": "stdout",
          "text": [
            "Epoch [3/10], Step [100/938], Loss: 0.0266\n",
            "Epoch [3/10], Step [200/938], Loss: 0.0205\n",
            "Epoch [3/10], Step [300/938], Loss: 0.0152\n",
            "Epoch [3/10], Step [400/938], Loss: 0.0188\n",
            "Epoch [3/10], Step [500/938], Loss: 0.0147\n",
            "Epoch [3/10], Step [600/938], Loss: 0.0128\n",
            "Epoch [3/10], Step [700/938], Loss: 0.0113\n",
            "Epoch [3/10], Step [800/938], Loss: 0.0069\n",
            "Epoch [3/10], Step [900/938], Loss: 0.0134\n"
          ]
        },
        {
          "output_type": "stream",
          "name": "stderr",
          "text": [
            "\r 30%|███       | 3/10 [00:49<01:54, 16.30s/it]"
          ]
        },
        {
          "output_type": "stream",
          "name": "stdout",
          "text": [
            "Epoch [4/10], Step [100/938], Loss: 0.0333\n",
            "Epoch [4/10], Step [200/938], Loss: 0.0065\n",
            "Epoch [4/10], Step [300/938], Loss: 0.0346\n",
            "Epoch [4/10], Step [400/938], Loss: 0.0123\n",
            "Epoch [4/10], Step [500/938], Loss: 0.0034\n",
            "Epoch [4/10], Step [600/938], Loss: 0.0138\n",
            "Epoch [4/10], Step [700/938], Loss: 0.0081\n",
            "Epoch [4/10], Step [800/938], Loss: 0.0064\n",
            "Epoch [4/10], Step [900/938], Loss: 0.0186\n"
          ]
        },
        {
          "output_type": "stream",
          "name": "stderr",
          "text": [
            "\r 40%|████      | 4/10 [01:06<01:38, 16.41s/it]"
          ]
        },
        {
          "output_type": "stream",
          "name": "stdout",
          "text": [
            "Epoch [5/10], Step [100/938], Loss: 0.0087\n",
            "Epoch [5/10], Step [200/938], Loss: 0.0194\n",
            "Epoch [5/10], Step [300/938], Loss: 0.0058\n",
            "Epoch [5/10], Step [400/938], Loss: 0.0107\n",
            "Epoch [5/10], Step [500/938], Loss: 0.0074\n",
            "Epoch [5/10], Step [600/938], Loss: 0.0064\n",
            "Epoch [5/10], Step [700/938], Loss: 0.0163\n",
            "Epoch [5/10], Step [800/938], Loss: 0.0068\n",
            "Epoch [5/10], Step [900/938], Loss: 0.0232\n"
          ]
        },
        {
          "output_type": "stream",
          "name": "stderr",
          "text": [
            "\r 50%|█████     | 5/10 [01:22<01:21, 16.21s/it]"
          ]
        },
        {
          "output_type": "stream",
          "name": "stdout",
          "text": [
            "Epoch [6/10], Step [100/938], Loss: 0.0079\n",
            "Epoch [6/10], Step [200/938], Loss: 0.0173\n",
            "Epoch [6/10], Step [300/938], Loss: 0.0043\n",
            "Epoch [6/10], Step [400/938], Loss: 0.0230\n",
            "Epoch [6/10], Step [500/938], Loss: 0.0237\n",
            "Epoch [6/10], Step [600/938], Loss: 0.0077\n",
            "Epoch [6/10], Step [700/938], Loss: 0.0040\n",
            "Epoch [6/10], Step [800/938], Loss: 0.0220\n",
            "Epoch [6/10], Step [900/938], Loss: 0.0073\n"
          ]
        },
        {
          "output_type": "stream",
          "name": "stderr",
          "text": [
            "\r 60%|██████    | 6/10 [01:37<01:04, 16.07s/it]"
          ]
        },
        {
          "output_type": "stream",
          "name": "stdout",
          "text": [
            "Epoch [7/10], Step [100/938], Loss: 0.0120\n",
            "Epoch [7/10], Step [200/938], Loss: 0.0093\n",
            "Epoch [7/10], Step [300/938], Loss: 0.0111\n",
            "Epoch [7/10], Step [400/938], Loss: 0.0251\n",
            "Epoch [7/10], Step [500/938], Loss: 0.0068\n",
            "Epoch [7/10], Step [600/938], Loss: 0.0105\n",
            "Epoch [7/10], Step [700/938], Loss: 0.0140\n",
            "Epoch [7/10], Step [800/938], Loss: 0.0211\n",
            "Epoch [7/10], Step [900/938], Loss: 0.0033\n"
          ]
        },
        {
          "output_type": "stream",
          "name": "stderr",
          "text": [
            "\r 70%|███████   | 7/10 [01:53<00:47, 15.95s/it]"
          ]
        },
        {
          "output_type": "stream",
          "name": "stdout",
          "text": [
            "Epoch [8/10], Step [100/938], Loss: 0.0047\n",
            "Epoch [8/10], Step [200/938], Loss: 0.0129\n",
            "Epoch [8/10], Step [300/938], Loss: 0.0100\n",
            "Epoch [8/10], Step [400/938], Loss: 0.0103\n",
            "Epoch [8/10], Step [500/938], Loss: 0.0206\n",
            "Epoch [8/10], Step [600/938], Loss: 0.0029\n",
            "Epoch [8/10], Step [700/938], Loss: 0.0033\n",
            "Epoch [8/10], Step [800/938], Loss: 0.0044\n",
            "Epoch [8/10], Step [900/938], Loss: 0.0136\n"
          ]
        },
        {
          "output_type": "stream",
          "name": "stderr",
          "text": [
            "\r 80%|████████  | 8/10 [02:10<00:32, 16.18s/it]"
          ]
        },
        {
          "output_type": "stream",
          "name": "stdout",
          "text": [
            "Epoch [9/10], Step [100/938], Loss: 0.0045\n",
            "Epoch [9/10], Step [200/938], Loss: 0.0072\n",
            "Epoch [9/10], Step [300/938], Loss: 0.0055\n",
            "Epoch [9/10], Step [400/938], Loss: 0.0032\n",
            "Epoch [9/10], Step [500/938], Loss: 0.0086\n",
            "Epoch [9/10], Step [600/938], Loss: 0.0248\n",
            "Epoch [9/10], Step [700/938], Loss: 0.0192\n",
            "Epoch [9/10], Step [800/938], Loss: 0.0156\n",
            "Epoch [9/10], Step [900/938], Loss: 0.0087\n"
          ]
        },
        {
          "output_type": "stream",
          "name": "stderr",
          "text": [
            "\r 90%|█████████ | 9/10 [02:26<00:16, 16.13s/it]"
          ]
        },
        {
          "output_type": "stream",
          "name": "stdout",
          "text": [
            "Epoch [10/10], Step [100/938], Loss: 0.0016\n",
            "Epoch [10/10], Step [200/938], Loss: 0.0089\n",
            "Epoch [10/10], Step [300/938], Loss: 0.0050\n",
            "Epoch [10/10], Step [400/938], Loss: 0.0100\n",
            "Epoch [10/10], Step [500/938], Loss: 0.0033\n",
            "Epoch [10/10], Step [600/938], Loss: 0.0044\n",
            "Epoch [10/10], Step [700/938], Loss: 0.0020\n",
            "Epoch [10/10], Step [800/938], Loss: 0.0059\n",
            "Epoch [10/10], Step [900/938], Loss: 0.0018\n"
          ]
        },
        {
          "output_type": "stream",
          "name": "stderr",
          "text": [
            "100%|██████████| 10/10 [02:42<00:00, 16.22s/it]\n"
          ]
        },
        {
          "output_type": "stream",
          "name": "stdout",
          "text": [
            "\n",
            "Finish:\n",
            "Epoch [10/10], Step [9380/9380], Loss: 0.0012\n"
          ]
        }
      ],
      "source": [
        "# Обучение модели\n",
        "\n",
        "# Передаём model на device\n",
        "model.to(device)\n",
        "\n",
        "# Перевод модели в режим обучения\n",
        "model.train()\n",
        "\n",
        "# список значений функции потерь для train\n",
        "loss_list_train = []\n",
        "\n",
        "total_step = len(train_dataloader)\n",
        "\n",
        "# список учителей (train)\n",
        "true_labels_list_train = []\n",
        "# список прогнозов модели (train)\n",
        "predicted_labels_list_train = []\n",
        "\n",
        "# для каждой эпохи\n",
        "for epoch in tqdm(range(1, num_epochs + 1)):\n",
        "  # для каждой части датасета\n",
        "    for i, (images, labels) in enumerate(train_dataloader):\n",
        "        # Move tensors to the configured device\n",
        "        images = images.to(device)\n",
        "        labels = labels.to(device)\n",
        "\n",
        "        # расширяем список true_labels_list_train\n",
        "        true_labels_list_train.extend(labels.cpu().numpy())\n",
        "\n",
        "        # применяем OneHotEncoding для учителей с одновременным преобразованием к float32. Получаем вектор величиной batch_size длиной num_classes\n",
        "        labels = F.one_hot(labels, num_classes=10).to(torch.float32)\n",
        "\n",
        "        # Forward pass (прямой проход). Попадаем в forward.\n",
        "        outputs = model(images)\n",
        "        # функция потерь для прохода\n",
        "        loss = loss_function(outputs, labels)  # criterion\n",
        "\n",
        "        # для расчёта метрик\n",
        "        # пропускаем через сигмоиду\n",
        "        outputs = F.sigmoid(outputs)\n",
        "        # получаем вектор predict_train\n",
        "        predicted_labels = torch.argmax(outputs, dim=1)\n",
        "        # расширяем список predicted_labels_list_train\n",
        "        predicted_labels_list_train.extend(predicted_labels.cpu().numpy())\n",
        "\n",
        "        # Backward and optimize\n",
        "        # обнуляем градиенты у оптимизатора\n",
        "        optimizer.zero_grad()\n",
        "        # делаем шаг в обратном направлении (backpropagation), считаем все градиенты\n",
        "        loss.backward()\n",
        "        # делаем шаг оптимизатора (обновляем веса)\n",
        "        optimizer.step()\n",
        "\n",
        "        loss_list_train.append(loss.detach().cpu().numpy())\n",
        "\n",
        "        if (i + 1) % 100 == 0:\n",
        "            print (f'Epoch [{epoch}/{num_epochs}], Step [{i+1}/{total_step}], Loss: {loss.item():.4f}')\n",
        "\n",
        "    # меняем learning_rate\n",
        "    scheduler.step()\n",
        "\n",
        "# После обучения очистить кэш\n",
        "with torch.no_grad():\n",
        "    torch.cuda.empty_cache()\n",
        "\n",
        "print (f'\\nFinish:\\nEpoch [{epoch}/{num_epochs}], Step [{len(loss_list_train)}/{total_step * num_epochs}], Loss: {loss.item():.4f}')\n",
        "\n",
        "# метрики качества. считаем при помощи sklearn\n",
        "train_metrics = get_metrics(model=model, y_pred=predicted_labels_list_train, y_test=true_labels_list_train)"
      ]
    },
    {
      "cell_type": "markdown",
      "metadata": {
        "id": "VGTaUTmH2xsv"
      },
      "source": [
        "### Тестирование модели"
      ]
    },
    {
      "cell_type": "code",
      "execution_count": 25,
      "metadata": {
        "colab": {
          "base_uri": "https://localhost:8080/",
          "height": 1000
        },
        "id": "kNJd7d8ZZoMg",
        "outputId": "140b4cd5-d81a-4f6b-d07f-c01b532bf9a2"
      },
      "outputs": [
        {
          "output_type": "display_data",
          "data": {
            "text/plain": [
              "<Figure size 2000x1500 with 64 Axes>"
            ],
            "image/png": "[encoded data removed]"
          },
          "metadata": {}
        }
      ],
      "source": [
        "# Тестирование модели\n",
        "\n",
        "# список учителей\n",
        "true_labels_list_test = []\n",
        "# список прогнозов модели\n",
        "predicted_labels_list_test = []\n",
        "\n",
        "# список значений функции потерь для test\n",
        "loss_list_test = []\n",
        "\n",
        "# Перевод модели в режим вычисления\n",
        "model.eval()\n",
        "\n",
        "# отображение картинок, учителей и predict для batch\n",
        "show_batch = True\n",
        "\n",
        "# цикл для каждой части (batch) тестового датасета\n",
        "for images, labels in test_dataloader:\n",
        "\n",
        "    images = images.to(device)\n",
        "    labels = labels.to(device)\n",
        "\n",
        "    # In test phase, we don't need to compute gradients (for memory efficiency)\n",
        "    # В тестовом режиме нет необходимости вычислять градиенты\n",
        "    with torch.no_grad():\n",
        "        # считаем predict\n",
        "        predict = model(images)\n",
        "\n",
        "    # расширяем список true_labels_list_test\n",
        "    true_labels_list_test.extend(labels.cpu().numpy())\n",
        "\n",
        "    # для графика функции потерь test\n",
        "    # применяем OneHotEncoding для учителей с одновременным преобразованием к float32. Получаем вектор величиной batch_size длиной num_classes\n",
        "    labels = F.one_hot(labels, num_classes=10).to(torch.float32)\n",
        "\n",
        "    # функция потерь для прохода\n",
        "    loss = loss_function(predict, labels)  # criterion\n",
        "    # добавляем значение в список\n",
        "    loss_list_test.append(loss.detach().cpu().numpy())\n",
        "\n",
        "    # пропускаем через сигмоиду\n",
        "    predict = F.sigmoid(predict)  # model do not contain nn.Sigmoid\n",
        "    # argmax - ищет индекс с максимальным значением -> предсказанный label\n",
        "    predicted_labels = torch.argmax(predict, dim=1)\n",
        "\n",
        "    predicted_labels_list_test.extend(predicted_labels.cpu().numpy())\n",
        "\n",
        "    # отрисуем первый batch\n",
        "    if show_batch:\n",
        "      # Посмотрим, что и как определилось (на примере последнего batch)\n",
        "      plt.figure(figsize=[20, 15])\n",
        "      # растояния между графиками\n",
        "      plt.subplots_adjust(wspace=0.5, hspace=0.5)\n",
        "      plt.suptitle('True_labels  --->  predicted_labels\\nimages', fontsize=15, fontweight='bold')\n",
        "\n",
        "      for idx in range(batch_size):\n",
        "        picture = images[idx][0].cpu()\n",
        "\n",
        "        plt.subplot(int(batch_size ** 0.5), int(batch_size ** 0.5), idx + 1)\n",
        "        plt.imshow(picture, cmap='gray')\n",
        "        plt.title(f'{true_labels_list_test[idx]} ---> {predicted_labels_list_test[idx]}', fontsize=12, color='blue')\n",
        "      show_batch = False\n",
        "\n",
        "# метрики качества. считаем при помощи sklearn\n",
        "test_metrics = get_metrics(model=model, y_pred=predicted_labels_list_test, y_test=true_labels_list_test)\n",
        "\n",
        "# но можно и напрямую через confusion matrix\n",
        "cm = confusion_matrix(true_labels_list_test, predicted_labels_list_test)"
      ]
    },
    {
      "cell_type": "markdown",
      "metadata": {
        "id": "-9byw3-V84JN"
      },
      "source": [
        "## Функция потерь и метрики качества:"
      ]
    },
    {
      "cell_type": "code",
      "execution_count": 26,
      "metadata": {
        "colab": {
          "base_uri": "https://localhost:8080/",
          "height": 469
        },
        "id": "Imql-TO-8_F8",
        "outputId": "9faf302a-9692-4f30-894d-3d548dfc6f8a"
      },
      "outputs": [
        {
          "output_type": "execute_result",
          "data": {
            "text/plain": [
              "[<matplotlib.lines.Line2D at 0x7a54a8d86560>]"
            ]
          },
          "metadata": {},
          "execution_count": 26
        },
        {
          "output_type": "display_data",
          "data": {
            "text/plain": [
              "<Figure size 640x480 with 1 Axes>"
            ],
            "image/png": "[encoded data removed]"
          },
          "metadata": {}
        }
      ],
      "source": [
        "plt.title('Функция потерь train')\n",
        "plt.plot(loss_list_train)"
      ]
    },
    {
      "cell_type": "code",
      "execution_count": 27,
      "metadata": {
        "colab": {
          "base_uri": "https://localhost:8080/",
          "height": 469
        },
        "id": "j-ks2DIf8_No",
        "outputId": "c14fe0d5-52ad-405b-beb8-a8d17eed6c8a"
      },
      "outputs": [
        {
          "output_type": "execute_result",
          "data": {
            "text/plain": [
              "[<matplotlib.lines.Line2D at 0x7a54a8bef6d0>]"
            ]
          },
          "metadata": {},
          "execution_count": 27
        },
        {
          "output_type": "display_data",
          "data": {
            "text/plain": [
              "<Figure size 640x480 with 1 Axes>"
            ],
            "image/png": "[encoded data removed]"
          },
          "metadata": {}
        }
      ],
      "source": [
        "plt.title('Функция потерь test')\n",
        "plt.plot(loss_list_test)"
      ]
    },
    {
      "cell_type": "code",
      "execution_count": 28,
      "metadata": {
        "colab": {
          "base_uri": "https://localhost:8080/"
        },
        "id": "EglDPUxpwyJf",
        "outputId": "ca644078-d1fa-401f-f9cc-b80a56b08dac"
      },
      "outputs": [
        {
          "output_type": "execute_result",
          "data": {
            "text/plain": [
              "{'model': 'ResNetModel(\\n  (conv_1): Conv2d(1, 16, kernel_size=(5, 5), stride=(1, 1), padding=(2, 2))\\n  (activation): Tanh()\\n  (pool): AvgPool2d(kernel_size=(2, 2), stride=(2, 2), padding=0)\\n  (conv_2): Conv2d(16, 32, kernel_size=(3, 3), stride=(1, 1), padding=(1, 1))\\n  (conv_3): Conv2d(32, 32, kernel_size=(3, 3), stride=(1, 1), padding=(1, 1))\\n  (fc): Linear(in_features=1568, out_features=10, bias=True)\\n  (skip_conn): Conv2d(16, 32, kernel_size=(1, 1), stride=(2, 2))\\n)',\n",
              " 'accuracy_score': 0.975,\n",
              " 'recall_score': 0.975,\n",
              " 'precision_score': 0.975}"
            ]
          },
          "metadata": {},
          "execution_count": 28
        }
      ],
      "source": [
        "train_metrics"
      ]
    },
    {
      "cell_type": "code",
      "execution_count": 29,
      "metadata": {
        "colab": {
          "base_uri": "https://localhost:8080/"
        },
        "id": "IMoL1piR7a4P",
        "outputId": "2fd7ff6a-89cc-4404-ce03-cddae7535ce5"
      },
      "outputs": [
        {
          "output_type": "execute_result",
          "data": {
            "text/plain": [
              "{'model': 'ResNetModel(\\n  (conv_1): Conv2d(1, 16, kernel_size=(5, 5), stride=(1, 1), padding=(2, 2))\\n  (activation): Tanh()\\n  (pool): AvgPool2d(kernel_size=(2, 2), stride=(2, 2), padding=0)\\n  (conv_2): Conv2d(16, 32, kernel_size=(3, 3), stride=(1, 1), padding=(1, 1))\\n  (conv_3): Conv2d(32, 32, kernel_size=(3, 3), stride=(1, 1), padding=(1, 1))\\n  (fc): Linear(in_features=1568, out_features=10, bias=True)\\n  (skip_conn): Conv2d(16, 32, kernel_size=(1, 1), stride=(2, 2))\\n)',\n",
              " 'accuracy_score': 0.986,\n",
              " 'recall_score': 0.986,\n",
              " 'precision_score': 0.986}"
            ]
          },
          "metadata": {},
          "execution_count": 29
        }
      ],
      "source": [
        "test_metrics"
      ]
    },
    {
      "cell_type": "code",
      "execution_count": 30,
      "metadata": {
        "colab": {
          "base_uri": "https://localhost:8080/"
        },
        "id": "mXgn6_IpDO9Q",
        "outputId": "9611a5c3-6c86-43f6-eac9-8590a47fdc2e"
      },
      "outputs": [
        {
          "output_type": "execute_result",
          "data": {
            "text/plain": [
              "array([[ 974,    0,    0,    0,    0,    0,    4,    1,    1,    0],\n",
              "       [   0, 1126,    2,    1,    0,    0,    2,    0,    3,    1],\n",
              "       [   1,    1, 1024,    0,    0,    0,    0,    3,    3,    0],\n",
              "       [   0,    0,    2,  999,    0,    4,    0,    1,    0,    4],\n",
              "       [   1,    0,    2,    0,  946,    0,    4,    0,    1,   28],\n",
              "       [   0,    0,    0,    5,    0,  884,    1,    0,    0,    2],\n",
              "       [   4,    2,    1,    1,    1,    2,  946,    0,    1,    0],\n",
              "       [   0,    3,    7,    4,    0,    0,    0, 1004,    1,    9],\n",
              "       [   3,    0,    3,    2,    2,    2,    1,    2,  955,    4],\n",
              "       [   0,    2,    0,    0,    1,    3,    0,    2,    0, 1001]])"
            ]
          },
          "metadata": {},
          "execution_count": 30
        }
      ],
      "source": [
        "cm"
      ]
    },
    {
      "cell_type": "code",
      "execution_count": 32,
      "metadata": {
        "colab": {
          "base_uri": "https://localhost:8080/"
        },
        "id": "xKlLf00yDgO2",
        "outputId": "59b6471e-7db1-48fb-a8cf-14352f0673c4"
      },
      "outputs": [
        {
          "output_type": "execute_result",
          "data": {
            "text/plain": [
              "array([ 974, 1126, 1024,  999,  946,  884,  946, 1004,  955, 1001])"
            ]
          },
          "metadata": {},
          "execution_count": 32
        }
      ],
      "source": [
        "cm.diagonal()"
      ]
    },
    {
      "cell_type": "code",
      "execution_count": 33,
      "metadata": {
        "colab": {
          "base_uri": "https://localhost:8080/"
        },
        "id": "nRKnQFLzDTge",
        "outputId": "3eeafb14-ae73-4abc-ab75-f972a692f842"
      },
      "outputs": [
        {
          "output_type": "execute_result",
          "data": {
            "text/plain": [
              "array([0.99387755, 0.99207048, 0.99224806, 0.98910891, 0.96334012,\n",
              "       0.99103139, 0.9874739 , 0.9766537 , 0.98049281, 0.99207136])"
            ]
          },
          "metadata": {},
          "execution_count": 33
        }
      ],
      "source": [
        "accuracy_test = cm.diagonal() / cm.sum(axis=1)\n",
        "# accuracy по классам\n",
        "accuracy_test"
      ]
    },
    {
      "cell_type": "code",
      "execution_count": 34,
      "metadata": {
        "colab": {
          "base_uri": "https://localhost:8080/"
        },
        "id": "wxZrKLW_DWMD",
        "outputId": "7bb7c793-c9c3-440a-eb42-71bee6fc94f6"
      },
      "outputs": [
        {
          "output_type": "execute_result",
          "data": {
            "text/plain": [
              "0.9858368292228936"
            ]
          },
          "metadata": {},
          "execution_count": 34
        }
      ],
      "source": [
        "# среднее значение accuracy\n",
        "accuracy_test.mean()"
      ]
    },
    {
      "cell_type": "code",
      "execution_count": 35,
      "metadata": {
        "colab": {
          "base_uri": "https://localhost:8080/"
        },
        "collapsed": true,
        "id": "B4YgbM5GGoGU",
        "outputId": "03d0c633-32ff-4f2d-d4da-164e6185d71e"
      },
      "outputs": [
        {
          "output_type": "execute_result",
          "data": {
            "text/plain": [
              "OrderedDict([('conv_1.weight',\n",
              "              tensor([[[[-3.3308e-01, -4.5696e-01, -2.8598e-01, -9.2037e-03, -1.3116e-01],\n",
              "                        [-9.8609e-02, -6.1138e-01, -6.2307e-01, -3.1037e-01, -1.7005e-01],\n",
              "                        [-1.3789e-01, -4.4345e-01, -4.8205e-01, -3.9239e-01, -6.8042e-02],\n",
              "                        [ 1.1285e-01, -1.3641e-01, -3.2557e-01,  2.2781e-01,  4.0393e-01],\n",
              "                        [ 3.4622e-02,  2.3348e-01,  4.5357e-01,  4.7957e-01,  6.0458e-01]]],\n",
              "              \n",
              "              \n",
              "                      [[[-3.4376e-01, -9.2458e-02, -8.4066e-02,  1.1511e-01, -2.2130e-01],\n",
              "                        [-3.3500e-01, -5.4363e-02,  2.0879e-01, -8.1518e-02, -2.4683e-02],\n",
              "                        [-7.9725e-02,  1.6770e-01,  1.9048e-01,  2.0999e-01, -3.4349e-02],\n",
              "                        [ 5.7718e-03,  3.0954e-02,  4.2591e-01,  4.0787e-01,  3.5612e-01],\n",
              "                        [-3.4042e-01,  3.0087e-03,  1.3236e-01,  4.1743e-02,  2.0127e-01]]],\n",
              "              \n",
              "              \n",
              "                      [[[-4.9520e-02,  3.0799e-02,  1.9556e-01, -8.8697e-02, -2.5144e-01],\n",
              "                        [ 3.6184e-01,  2.4339e-01,  4.5425e-01, -8.2458e-02,  4.0261e-02],\n",
              "                        [ 3.5664e-01,  4.3889e-01,  4.0052e-01, -2.3186e-01, -6.8409e-02],\n",
              "                        [-3.6378e-02,  1.2622e-01,  1.3023e-01, -3.2092e-01, -1.3961e-01],\n",
              "                        [ 4.4741e-02, -1.9798e-01, -4.5534e-01, -4.7901e-01, -3.3762e-01]]],\n",
              "              \n",
              "              \n",
              "                      [[[ 2.7268e-01,  4.9215e-01,  4.2359e-01,  4.0513e-01,  2.6582e-01],\n",
              "                        [ 3.3117e-03,  5.7349e-01,  2.6724e-01,  1.1131e-01,  1.0272e-01],\n",
              "                        [-3.0557e-02,  3.6251e-01,  3.5404e-01,  7.6893e-02, -2.6762e-01],\n",
              "                        [ 8.9287e-02, -1.4991e-01, -1.3429e-01, -3.4359e-01, -2.6130e-01],\n",
              "                        [-2.2513e-02, -4.5461e-01, -6.5943e-01, -5.5319e-01, -4.4163e-01]]],\n",
              "              \n",
              "              \n",
              "                      [[[ 5.6333e-01,  3.4732e-01,  2.0310e-01,  3.7553e-01,  6.1580e-01],\n",
              "                        [ 5.4779e-01,  2.3668e-01,  7.0392e-02,  1.9417e-01,  2.0035e-01],\n",
              "                        [-1.8060e-01, -2.1458e-01, -3.0536e-01, -3.4737e-01, -3.7723e-01],\n",
              "                        [-5.7289e-01, -8.1016e-01, -7.8799e-01, -5.9391e-01, -7.2660e-01],\n",
              "                        [-6.8515e-01, -5.9232e-01, -5.1893e-01, -4.1809e-01, -4.1081e-01]]],\n",
              "              \n",
              "              \n",
              "                      [[[-1.8552e-01, -2.7744e-01,  1.9034e-01, -1.2251e-01, -1.5048e-01],\n",
              "                        [-4.4866e-02,  1.7379e-01,  6.0606e-02,  4.0698e-01,  3.2239e-01],\n",
              "                        [-1.7419e-01,  1.9829e-01,  2.4144e-01,  9.4974e-02,  3.3325e-01],\n",
              "                        [-2.3429e-01,  7.4812e-02, -7.0939e-02,  1.6065e-02,  2.6360e-01],\n",
              "                        [-2.1854e-01, -6.7490e-02, -1.4652e-01, -1.1753e-01, -2.9710e-02]]],\n",
              "              \n",
              "              \n",
              "                      [[[ 3.8114e-01,  2.3736e-01,  4.4548e-02,  1.9372e-01,  2.5594e-01],\n",
              "                        [ 3.7081e-01, -1.2208e-01, -2.6399e-01,  5.9864e-02,  2.8087e-01],\n",
              "                        [-2.0227e-01, -4.3291e-01, -3.4447e-01, -3.4933e-02, -1.5781e-01],\n",
              "                        [-6.2419e-02, -2.6087e-01, -1.1387e-01, -5.6948e-02, -2.2696e-01],\n",
              "                        [-1.9514e-01, -3.3688e-02,  1.1589e-01, -1.4684e-01, -1.1706e-01]]],\n",
              "              \n",
              "              \n",
              "                      [[[ 1.5812e-01,  2.9040e-01,  5.2288e-01,  5.2864e-01,  2.1557e-01],\n",
              "                        [ 1.7959e-01,  3.6294e-01,  2.9619e-01,  2.2527e-01,  9.0709e-02],\n",
              "                        [-1.3525e-02,  4.1957e-01,  4.5561e-01,  2.7337e-01, -1.3850e-01],\n",
              "                        [ 2.6399e-01,  5.0348e-01,  3.1701e-01, -2.4587e-02, -3.3700e-01],\n",
              "                        [ 3.8377e-01,  5.3377e-01,  2.6079e-01,  1.6491e-02, -3.7795e-01]]],\n",
              "              \n",
              "              \n",
              "                      [[[ 1.0957e-01,  2.9365e-01, -1.1705e-01,  6.7510e-02, -1.3830e-01],\n",
              "                        [ 2.0185e-01,  3.4552e-01,  1.8295e-01,  5.7034e-02,  2.5950e-01],\n",
              "                        [ 3.6776e-01,  3.6864e-01, -1.2182e-04, -5.7982e-02, -1.7952e-01],\n",
              "                        [ 6.1007e-02, -1.0120e-01, -2.1193e-01, -4.5881e-01, -3.0767e-01],\n",
              "                        [ 1.7036e-01,  2.4817e-02, -2.7122e-01, -2.6869e-01, -2.8969e-02]]],\n",
              "              \n",
              "              \n",
              "                      [[[ 4.9718e-01,  2.4942e-01,  2.7667e-01,  2.6411e-01,  2.7500e-01],\n",
              "                        [-8.8152e-02, -1.5057e-01, -2.1596e-01,  1.4492e-01,  2.5291e-01],\n",
              "                        [-2.8325e-01, -4.8611e-01, -2.4835e-01,  2.0470e-02,  8.5822e-02],\n",
              "                        [-2.0184e-01, -4.0964e-01, -4.6746e-01, -1.7975e-01, -1.5645e-02],\n",
              "                        [-9.9442e-02, -1.4537e-01, -1.6195e-01,  3.1267e-01,  3.6765e-01]]],\n",
              "              \n",
              "              \n",
              "                      [[[ 9.2604e-02,  9.4491e-02, -2.0996e-01, -3.9098e-01, -2.5344e-01],\n",
              "                        [ 3.6746e-01,  2.0534e-01,  8.6098e-02, -3.5184e-02,  2.0815e-01],\n",
              "                        [ 6.6461e-01,  5.3448e-01,  3.9791e-01,  3.8917e-01,  3.4693e-01],\n",
              "                        [ 3.7438e-01,  2.9464e-01,  3.9279e-01,  5.2512e-01,  3.8646e-01],\n",
              "                        [-1.6511e-01, -4.6698e-02,  8.3261e-02,  2.5241e-01,  3.1587e-01]]],\n",
              "              \n",
              "              \n",
              "                      [[[-1.6130e-01, -2.0098e-01, -3.0400e-01, -3.1560e-01, -2.6511e-01],\n",
              "                        [-4.5048e-01, -4.9672e-01, -2.0568e-01,  1.0212e-01,  1.8402e-02],\n",
              "                        [-3.2951e-01, -1.1687e-01,  3.9791e-01,  1.2109e-01,  2.1999e-01],\n",
              "                        [-7.2244e-02,  2.1935e-01,  4.5559e-01,  3.1915e-01,  3.7361e-01],\n",
              "                        [-1.7844e-02,  9.0658e-02,  1.7781e-01,  3.4235e-01,  1.9635e-01]]],\n",
              "              \n",
              "              \n",
              "                      [[[-2.3925e-01, -1.7968e-01, -3.1303e-01, -2.5825e-01, -5.8514e-01],\n",
              "                        [-3.1753e-01, -2.5973e-02, -2.5987e-01, -1.7554e-01, -4.5497e-01],\n",
              "                        [-1.6425e-01,  2.6770e-01,  2.5795e-01, -1.0651e-01, -4.4371e-01],\n",
              "                        [ 5.6128e-01,  4.8976e-01,  5.2090e-01,  2.8283e-01, -2.6823e-01],\n",
              "                        [ 5.7818e-01,  5.1759e-01,  5.2733e-01, -2.9457e-02, -1.1773e-01]]],\n",
              "              \n",
              "              \n",
              "                      [[[-3.6807e-01,  7.2510e-02,  4.7174e-01,  7.1518e-01,  5.8077e-01],\n",
              "                        [-8.2769e-02, -1.1219e-02,  5.3644e-01,  6.1640e-01,  7.0015e-01],\n",
              "                        [-1.3935e-01,  2.3443e-01,  4.0625e-01,  3.0984e-01,  1.6339e-01],\n",
              "                        [-3.3113e-01, -1.9699e-01, -2.6723e-02, -2.5616e-01, -2.9517e-01],\n",
              "                        [-6.0661e-01, -6.4046e-01, -5.3766e-01, -3.5844e-01, -4.7733e-01]]],\n",
              "              \n",
              "              \n",
              "                      [[[ 1.8700e-01, -2.8846e-02,  1.5704e-01,  1.5614e-01,  1.4631e-01],\n",
              "                        [ 1.4869e-01, -4.8062e-02, -6.0955e-02,  2.5963e-01,  3.2642e-01],\n",
              "                        [-2.9059e-02, -6.5263e-02, -7.4793e-02,  2.0951e-01,  2.3596e-02],\n",
              "                        [ 1.0800e-01,  1.2848e-01,  1.2767e-01,  6.8502e-02, -1.5939e-01],\n",
              "                        [ 6.0287e-02,  5.1079e-02, -1.5905e-01,  1.3533e-01,  1.1858e-01]]],\n",
              "              \n",
              "              \n",
              "                      [[[ 1.7554e-01,  3.5102e-01,  1.8508e-02,  1.8809e-01,  4.4181e-01],\n",
              "                        [ 7.9855e-02,  1.7257e-01, -1.1762e-01,  1.0534e-01,  4.5045e-01],\n",
              "                        [-1.6585e-01, -3.5342e-01, -1.4689e-01,  1.1963e-01,  3.8990e-01],\n",
              "                        [-4.5567e-01, -3.4137e-01, -4.3807e-01, -1.3698e-01,  3.6979e-01],\n",
              "                        [-4.3245e-01, -3.8200e-01, -2.1613e-02, -1.0444e-01,  2.3278e-01]]]],\n",
              "                     device='cuda:0')),\n",
              "             ('conv_1.bias',\n",
              "              tensor([-0.0166, -0.2365,  0.2143,  0.0641,  0.0321, -0.0473,  0.1796, -0.1812,\n",
              "                      -0.2245, -0.0371, -0.1748, -0.0061,  0.2175, -0.0667, -0.2326,  0.1163],\n",
              "                     device='cuda:0')),\n",
              "             ('conv_2.weight',\n",
              "              tensor([[[[ 0.0735,  0.1211,  0.1594],\n",
              "                        [-0.0404, -0.0315, -0.0912],\n",
              "                        [-0.2108, -0.1255, -0.1500]],\n",
              "              \n",
              "                       [[ 0.0747, -0.0283,  0.0320],\n",
              "                        [ 0.0698,  0.1544, -0.0241],\n",
              "                        [ 0.0253, -0.0441, -0.1156]],\n",
              "              \n",
              "                       [[-0.1593, -0.0461, -0.0461],\n",
              "                        [ 0.0602,  0.0383, -0.0158],\n",
              "                        [ 0.0536,  0.1046,  0.0562]],\n",
              "              \n",
              "                       ...,\n",
              "              \n",
              "                       [[-0.1596,  0.0053, -0.1108],\n",
              "                        [ 0.0584, -0.0756, -0.0838],\n",
              "                        [ 0.2356,  0.2663,  0.1847]],\n",
              "              \n",
              "                       [[-0.0778,  0.0675, -0.0721],\n",
              "                        [-0.0512, -0.0166,  0.0272],\n",
              "                        [-0.0187,  0.0330,  0.0937]],\n",
              "              \n",
              "                       [[ 0.1242, -0.0506,  0.0330],\n",
              "                        [-0.1262, -0.1535, -0.0033],\n",
              "                        [ 0.0714,  0.0376,  0.1495]]],\n",
              "              \n",
              "              \n",
              "                      [[[ 0.0261,  0.0088,  0.0101],\n",
              "                        [ 0.0473, -0.0054, -0.0385],\n",
              "                        [-0.0462, -0.1262, -0.0592]],\n",
              "              \n",
              "                       [[-0.0077,  0.0309,  0.1279],\n",
              "                        [ 0.0355,  0.0590,  0.1469],\n",
              "                        [ 0.0925,  0.0387, -0.0398]],\n",
              "              \n",
              "                       [[-0.1062, -0.0525, -0.1442],\n",
              "                        [-0.1735, -0.1260,  0.0368],\n",
              "                        [-0.0353,  0.0355,  0.1160]],\n",
              "              \n",
              "                       ...,\n",
              "              \n",
              "                       [[-0.0208, -0.0632, -0.1161],\n",
              "                        [-0.0457,  0.0971,  0.0027],\n",
              "                        [ 0.0450,  0.0345,  0.1744]],\n",
              "              \n",
              "                       [[-0.0463, -0.0574,  0.0421],\n",
              "                        [-0.0203,  0.0456, -0.0400],\n",
              "                        [-0.0499, -0.0414,  0.0004]],\n",
              "              \n",
              "                       [[-0.0268,  0.0368, -0.0059],\n",
              "                        [ 0.0981, -0.0762, -0.0732],\n",
              "                        [-0.0397, -0.0620,  0.0467]]],\n",
              "              \n",
              "              \n",
              "                      [[[-0.0342,  0.0041,  0.0094],\n",
              "                        [-0.0114, -0.1558, -0.1528],\n",
              "                        [-0.1358, -0.0330,  0.0317]],\n",
              "              \n",
              "                       [[ 0.1144,  0.0862, -0.0049],\n",
              "                        [-0.0193,  0.0655, -0.0444],\n",
              "                        [-0.0108, -0.0342, -0.0245]],\n",
              "              \n",
              "                       [[-0.0556, -0.0405,  0.0522],\n",
              "                        [-0.1662,  0.0998,  0.1288],\n",
              "                        [-0.0268,  0.1750,  0.0644]],\n",
              "              \n",
              "                       ...,\n",
              "              \n",
              "                       [[ 0.0757,  0.1001,  0.2390],\n",
              "                        [ 0.0765,  0.2115,  0.2796],\n",
              "                        [ 0.1520,  0.2368,  0.0669]],\n",
              "              \n",
              "                       [[-0.0322, -0.0642,  0.1194],\n",
              "                        [ 0.0634,  0.0995,  0.0613],\n",
              "                        [-0.0128, -0.0679, -0.0121]],\n",
              "              \n",
              "                       [[ 0.0884, -0.0810, -0.1765],\n",
              "                        [-0.0280, -0.0259, -0.0349],\n",
              "                        [ 0.0628, -0.0461,  0.1319]]],\n",
              "              \n",
              "              \n",
              "                      ...,\n",
              "              \n",
              "              \n",
              "                      [[[-0.0301, -0.0569,  0.0128],\n",
              "                        [-0.1574, -0.2004, -0.1769],\n",
              "                        [-0.0807,  0.0518, -0.0024]],\n",
              "              \n",
              "                       [[ 0.1606,  0.0452,  0.0254],\n",
              "                        [-0.0648, -0.0350, -0.0693],\n",
              "                        [-0.1266, -0.0193, -0.0130]],\n",
              "              \n",
              "                       [[-0.0219, -0.0138,  0.0269],\n",
              "                        [ 0.0882,  0.1165,  0.0562],\n",
              "                        [ 0.0112, -0.0914, -0.0810]],\n",
              "              \n",
              "                       ...,\n",
              "              \n",
              "                       [[-0.0499, -0.0791,  0.0616],\n",
              "                        [ 0.3181,  0.2475,  0.2964],\n",
              "                        [ 0.0771,  0.0704, -0.0045]],\n",
              "              \n",
              "                       [[ 0.0321,  0.0098,  0.1194],\n",
              "                        [ 0.0396,  0.0632,  0.0208],\n",
              "                        [-0.1064, -0.0673,  0.0220]],\n",
              "              \n",
              "                       [[-0.1064, -0.1569,  0.0351],\n",
              "                        [ 0.1931,  0.1014,  0.0972],\n",
              "                        [ 0.1965,  0.0915,  0.1145]]],\n",
              "              \n",
              "              \n",
              "                      [[[ 0.0158,  0.1131,  0.1506],\n",
              "                        [ 0.0141,  0.0326,  0.1291],\n",
              "                        [-0.0019, -0.2316, -0.0572]],\n",
              "              \n",
              "                       [[-0.1091,  0.0237, -0.1314],\n",
              "                        [ 0.0790,  0.1035,  0.0142],\n",
              "                        [-0.0671,  0.0603,  0.0180]],\n",
              "              \n",
              "                       [[-0.0872, -0.0874, -0.1002],\n",
              "                        [-0.1838, -0.1056, -0.0138],\n",
              "                        [-0.0686,  0.0356,  0.1737]],\n",
              "              \n",
              "                       ...,\n",
              "              \n",
              "                       [[-0.1153, -0.0496, -0.1384],\n",
              "                        [-0.0698, -0.0750, -0.2188],\n",
              "                        [ 0.2442,  0.1929,  0.1132]],\n",
              "              \n",
              "                       [[-0.1057, -0.0257, -0.1163],\n",
              "                        [-0.1011,  0.0357, -0.0691],\n",
              "                        [-0.0859,  0.0737,  0.0872]],\n",
              "              \n",
              "                       [[ 0.1202,  0.0479, -0.1130],\n",
              "                        [ 0.0708, -0.0753, -0.1367],\n",
              "                        [ 0.1488,  0.0651, -0.0293]]],\n",
              "              \n",
              "              \n",
              "                      [[[-0.0613, -0.0947, -0.0678],\n",
              "                        [ 0.0223,  0.0927,  0.0565],\n",
              "                        [ 0.0508,  0.2301,  0.1287]],\n",
              "              \n",
              "                       [[-0.0674, -0.0706,  0.1544],\n",
              "                        [ 0.0193, -0.0464,  0.0478],\n",
              "                        [-0.0172,  0.0581,  0.1773]],\n",
              "              \n",
              "                       [[ 0.1278,  0.1212, -0.0564],\n",
              "                        [ 0.1026,  0.0145, -0.0911],\n",
              "                        [ 0.0893, -0.1124, -0.1388]],\n",
              "              \n",
              "                       ...,\n",
              "              \n",
              "                       [[ 0.1166,  0.0284,  0.1672],\n",
              "                        [-0.0568,  0.0145,  0.0868],\n",
              "                        [-0.1526, -0.1220,  0.0014]],\n",
              "              \n",
              "                       [[ 0.1011, -0.0280,  0.0956],\n",
              "                        [ 0.0360, -0.0481,  0.1098],\n",
              "                        [-0.0096,  0.0418, -0.0647]],\n",
              "              \n",
              "                       [[-0.0400,  0.0607,  0.0211],\n",
              "                        [ 0.0079,  0.1401,  0.0614],\n",
              "                        [-0.2161,  0.1572,  0.0089]]]], device='cuda:0')),\n",
              "             ('conv_2.bias',\n",
              "              tensor([-0.0325, -0.0879, -0.0522,  0.0119, -0.1010,  0.0530, -0.0465,  0.0718,\n",
              "                      -0.0763, -0.0241, -0.2053, -0.0167,  0.1279,  0.1716,  0.0227,  0.1541,\n",
              "                       0.0127,  0.0934,  0.0493,  0.1203,  0.0775,  0.1206, -0.0841,  0.0400,\n",
              "                      -0.0163, -0.0187,  0.0159, -0.0577, -0.0142,  0.0789, -0.0170,  0.0064],\n",
              "                     device='cuda:0')),\n",
              "             ('conv_3.weight',\n",
              "              tensor([[[[-0.1498,  0.0398, -0.1587],\n",
              "                        [-0.0313, -0.0762, -0.1478],\n",
              "                        [ 0.0819,  0.1006,  0.0901]],\n",
              "              \n",
              "                       [[ 0.0749, -0.0067,  0.0698],\n",
              "                        [-0.0045,  0.0970, -0.0071],\n",
              "                        [-0.0262, -0.0312, -0.0259]],\n",
              "              \n",
              "                       [[-0.0155,  0.0471, -0.1068],\n",
              "                        [-0.0147,  0.1254,  0.0048],\n",
              "                        [-0.0847, -0.0040,  0.0415]],\n",
              "              \n",
              "                       ...,\n",
              "              \n",
              "                       [[-0.1144,  0.0118, -0.0458],\n",
              "                        [-0.1112, -0.1262, -0.0796],\n",
              "                        [-0.0189,  0.0567,  0.0225]],\n",
              "              \n",
              "                       [[ 0.0274,  0.0926,  0.0233],\n",
              "                        [-0.0416,  0.0711, -0.0982],\n",
              "                        [ 0.0926, -0.0767, -0.0194]],\n",
              "              \n",
              "                       [[ 0.0052, -0.1452, -0.0006],\n",
              "                        [ 0.0219, -0.1789, -0.0928],\n",
              "                        [ 0.0036,  0.0721, -0.0006]]],\n",
              "              \n",
              "              \n",
              "                      [[[-0.0148, -0.1037, -0.0961],\n",
              "                        [ 0.0335,  0.0171, -0.0158],\n",
              "                        [ 0.1977,  0.0004,  0.1084]],\n",
              "              \n",
              "                       [[ 0.0404, -0.0542, -0.0703],\n",
              "                        [ 0.1023,  0.1158,  0.0248],\n",
              "                        [-0.0023,  0.0365,  0.0411]],\n",
              "              \n",
              "                       [[-0.0420,  0.0081,  0.0786],\n",
              "                        [-0.1613, -0.0585,  0.0291],\n",
              "                        [ 0.1170,  0.0267,  0.1128]],\n",
              "              \n",
              "                       ...,\n",
              "              \n",
              "                       [[ 0.0324, -0.0997, -0.0024],\n",
              "                        [-0.1539, -0.0609, -0.0067],\n",
              "                        [ 0.1172,  0.0794,  0.0770]],\n",
              "              \n",
              "                       [[-0.0573, -0.0331, -0.1299],\n",
              "                        [ 0.0651,  0.0400,  0.1772],\n",
              "                        [-0.0469, -0.0279,  0.1164]],\n",
              "              \n",
              "                       [[ 0.0777,  0.1511,  0.1825],\n",
              "                        [-0.0604,  0.0603, -0.0472],\n",
              "                        [-0.0338,  0.0543, -0.0010]]],\n",
              "              \n",
              "              \n",
              "                      [[[ 0.1275,  0.1781,  0.1874],\n",
              "                        [-0.0159,  0.0106, -0.0178],\n",
              "                        [ 0.1830, -0.1309,  0.0400]],\n",
              "              \n",
              "                       [[ 0.0581,  0.0231, -0.0101],\n",
              "                        [ 0.0641, -0.0429, -0.0413],\n",
              "                        [ 0.0231, -0.1184,  0.1403]],\n",
              "              \n",
              "                       [[ 0.0519,  0.0030,  0.0603],\n",
              "                        [-0.0604,  0.1219, -0.0601],\n",
              "                        [ 0.1975, -0.1111,  0.0050]],\n",
              "              \n",
              "                       ...,\n",
              "              \n",
              "                       [[ 0.0741, -0.0052,  0.0783],\n",
              "                        [ 0.0252,  0.1458, -0.0475],\n",
              "                        [ 0.1217, -0.0053,  0.0060]],\n",
              "              \n",
              "                       [[ 0.1760,  0.1357,  0.1395],\n",
              "                        [ 0.1154, -0.1510,  0.0769],\n",
              "                        [-0.0820, -0.0733,  0.0907]],\n",
              "              \n",
              "                       [[-0.1937, -0.1377, -0.0490],\n",
              "                        [-0.0831, -0.0651,  0.0490],\n",
              "                        [ 0.0193,  0.0867, -0.0699]]],\n",
              "              \n",
              "              \n",
              "                      ...,\n",
              "              \n",
              "              \n",
              "                      [[[-0.0715, -0.0180,  0.1080],\n",
              "                        [ 0.1377,  0.0645, -0.0782],\n",
              "                        [ 0.1149, -0.0959, -0.0646]],\n",
              "              \n",
              "                       [[-0.0615, -0.0228,  0.0779],\n",
              "                        [ 0.0221, -0.0289, -0.0521],\n",
              "                        [ 0.0721, -0.0395, -0.0920]],\n",
              "              \n",
              "                       [[ 0.0139,  0.0318,  0.0877],\n",
              "                        [-0.0376, -0.0207,  0.0730],\n",
              "                        [ 0.0195, -0.0880, -0.0462]],\n",
              "              \n",
              "                       ...,\n",
              "              \n",
              "                       [[-0.0423,  0.1278,  0.0255],\n",
              "                        [-0.0134,  0.0993,  0.1415],\n",
              "                        [ 0.0183, -0.1631, -0.0318]],\n",
              "              \n",
              "                       [[-0.0288, -0.0782,  0.1147],\n",
              "                        [ 0.1098, -0.1096, -0.1733],\n",
              "                        [ 0.0746, -0.1151, -0.1586]],\n",
              "              \n",
              "                       [[ 0.0443, -0.0279, -0.0984],\n",
              "                        [-0.0371,  0.0454,  0.0640],\n",
              "                        [-0.0361, -0.0024,  0.0529]]],\n",
              "              \n",
              "              \n",
              "                      [[[-0.0228, -0.1555, -0.0902],\n",
              "                        [ 0.0887,  0.1978,  0.0383],\n",
              "                        [ 0.0661,  0.0194,  0.0169]],\n",
              "              \n",
              "                       [[-0.0605, -0.1433, -0.0644],\n",
              "                        [-0.0293, -0.0246, -0.0389],\n",
              "                        [ 0.0707,  0.0871,  0.0381]],\n",
              "              \n",
              "                       [[ 0.0200,  0.0602,  0.1716],\n",
              "                        [-0.0267,  0.1029,  0.0857],\n",
              "                        [-0.0834,  0.0046,  0.1711]],\n",
              "              \n",
              "                       ...,\n",
              "              \n",
              "                       [[-0.0987,  0.0156,  0.0767],\n",
              "                        [ 0.1543,  0.2809,  0.0905],\n",
              "                        [ 0.0323, -0.1007,  0.0869]],\n",
              "              \n",
              "                       [[-0.0053, -0.1596, -0.2647],\n",
              "                        [-0.0944, -0.0619,  0.0598],\n",
              "                        [ 0.1252,  0.0492, -0.0276]],\n",
              "              \n",
              "                       [[ 0.1057,  0.2050,  0.1819],\n",
              "                        [ 0.1473,  0.0742, -0.0694],\n",
              "                        [ 0.0098,  0.0606, -0.0212]]],\n",
              "              \n",
              "              \n",
              "                      [[[ 0.0528,  0.0699,  0.1007],\n",
              "                        [ 0.1225, -0.0550, -0.0054],\n",
              "                        [ 0.0572,  0.1290, -0.0414]],\n",
              "              \n",
              "                       [[-0.0544,  0.0747, -0.0120],\n",
              "                        [-0.0374, -0.0061, -0.0649],\n",
              "                        [ 0.0630, -0.0011,  0.0157]],\n",
              "              \n",
              "                       [[-0.1129,  0.0981,  0.1010],\n",
              "                        [-0.1240, -0.0810, -0.0448],\n",
              "                        [-0.0451, -0.0051,  0.0086]],\n",
              "              \n",
              "                       ...,\n",
              "              \n",
              "                       [[-0.0360, -0.0057,  0.0948],\n",
              "                        [-0.1178, -0.1254, -0.0110],\n",
              "                        [ 0.0726, -0.0028, -0.1250]],\n",
              "              \n",
              "                       [[-0.0779,  0.1220, -0.0220],\n",
              "                        [ 0.0073, -0.0083,  0.0844],\n",
              "                        [-0.0027,  0.1364, -0.0244]],\n",
              "              \n",
              "                       [[ 0.0618,  0.0497,  0.0653],\n",
              "                        [ 0.0439,  0.0986,  0.0558],\n",
              "                        [-0.0394, -0.0127,  0.0052]]]], device='cuda:0')),\n",
              "             ('conv_3.bias',\n",
              "              tensor([ 0.3749, -0.2209,  0.0825,  0.2060,  0.0329,  0.0863, -0.1042, -0.1426,\n",
              "                       0.1770,  0.0563,  0.4761,  0.0584, -0.0694, -0.1547,  0.1546, -0.0146,\n",
              "                      -0.1912,  0.0733, -0.0801,  0.2289, -0.0762, -0.0088, -0.2868, -0.3528,\n",
              "                       0.0153, -0.0783, -0.0653,  0.0139,  0.3471, -0.2036,  0.2756, -0.0025],\n",
              "                     device='cuda:0')),\n",
              "             ('fc.weight',\n",
              "              tensor([[-0.0681, -0.0176, -0.0321,  ...,  0.0112,  0.0241, -0.0056],\n",
              "                      [-0.0168, -0.0005, -0.0557,  ...,  0.0513, -0.0170, -0.0165],\n",
              "                      [-0.0314, -0.0097, -0.0200,  ...,  0.1258, -0.0591,  0.0335],\n",
              "                      ...,\n",
              "                      [-0.0322, -0.0168, -0.0264,  ..., -0.0684,  0.0244,  0.0158],\n",
              "                      [-0.0526,  0.0150,  0.0094,  ...,  0.1504, -0.0048, -0.0969],\n",
              "                      [ 0.0006,  0.0208,  0.0201,  ..., -0.0581, -0.0572, -0.0421]],\n",
              "                     device='cuda:0')),\n",
              "             ('fc.bias',\n",
              "              tensor([-0.2028, -0.0898, -0.0408, -0.1335, -0.1899, -0.0405, -0.1324, -0.0858,\n",
              "                      -0.2232, -0.1644], device='cuda:0')),\n",
              "             ('skip_conn.weight',\n",
              "              tensor([[[[-0.0493]],\n",
              "              \n",
              "                       [[ 0.2033]],\n",
              "              \n",
              "                       [[ 0.0106]],\n",
              "              \n",
              "                       [[-0.1355]],\n",
              "              \n",
              "                       [[ 0.1507]],\n",
              "              \n",
              "                       [[ 0.2624]],\n",
              "              \n",
              "                       [[-0.0020]],\n",
              "              \n",
              "                       [[ 0.4621]],\n",
              "              \n",
              "                       [[-0.1936]],\n",
              "              \n",
              "                       [[ 0.1234]],\n",
              "              \n",
              "                       [[ 0.4321]],\n",
              "              \n",
              "                       [[ 0.3099]],\n",
              "              \n",
              "                       [[-0.1428]],\n",
              "              \n",
              "                       [[ 0.1592]],\n",
              "              \n",
              "                       [[-0.0626]],\n",
              "              \n",
              "                       [[ 0.0959]]],\n",
              "              \n",
              "              \n",
              "                      [[[ 0.3039]],\n",
              "              \n",
              "                       [[ 0.0400]],\n",
              "              \n",
              "                       [[ 0.1024]],\n",
              "              \n",
              "                       [[-0.0905]],\n",
              "              \n",
              "                       [[ 0.0457]],\n",
              "              \n",
              "                       [[ 0.1958]],\n",
              "              \n",
              "                       [[ 0.1111]],\n",
              "              \n",
              "                       [[-0.3269]],\n",
              "              \n",
              "                       [[-0.1417]],\n",
              "              \n",
              "                       [[ 0.3370]],\n",
              "              \n",
              "                       [[-0.1683]],\n",
              "              \n",
              "                       [[-0.0481]],\n",
              "              \n",
              "                       [[-0.2170]],\n",
              "              \n",
              "                       [[-0.0876]],\n",
              "              \n",
              "                       [[-0.2760]],\n",
              "              \n",
              "                       [[ 0.0020]]],\n",
              "              \n",
              "              \n",
              "                      [[[-0.3493]],\n",
              "              \n",
              "                       [[-0.1433]],\n",
              "              \n",
              "                       [[ 0.1407]],\n",
              "              \n",
              "                       [[ 0.1667]],\n",
              "              \n",
              "                       [[ 0.0335]],\n",
              "              \n",
              "                       [[-0.2791]],\n",
              "              \n",
              "                       [[ 0.0799]],\n",
              "              \n",
              "                       [[ 0.3195]],\n",
              "              \n",
              "                       [[ 0.2462]],\n",
              "              \n",
              "                       [[-0.3063]],\n",
              "              \n",
              "                       [[ 0.0268]],\n",
              "              \n",
              "                       [[-0.0822]],\n",
              "              \n",
              "                       [[ 0.2988]],\n",
              "              \n",
              "                       [[ 0.0197]],\n",
              "              \n",
              "                       [[ 0.0290]],\n",
              "              \n",
              "                       [[ 0.0244]]],\n",
              "              \n",
              "              \n",
              "                      [[[-0.0634]],\n",
              "              \n",
              "                       [[-0.0563]],\n",
              "              \n",
              "                       [[ 0.0047]],\n",
              "              \n",
              "                       [[ 0.1961]],\n",
              "              \n",
              "                       [[ 0.2639]],\n",
              "              \n",
              "                       [[-0.2555]],\n",
              "              \n",
              "                       [[ 0.1582]],\n",
              "              \n",
              "                       [[-0.0963]],\n",
              "              \n",
              "                       [[ 0.2644]],\n",
              "              \n",
              "                       [[ 0.1745]],\n",
              "              \n",
              "                       [[-0.1297]],\n",
              "              \n",
              "                       [[-0.4172]],\n",
              "              \n",
              "                       [[ 0.2529]],\n",
              "              \n",
              "                       [[-0.3855]],\n",
              "              \n",
              "                       [[-0.0029]],\n",
              "              \n",
              "                       [[-0.0010]]],\n",
              "              \n",
              "              \n",
              "                      [[[-0.3267]],\n",
              "              \n",
              "                       [[-0.2508]],\n",
              "              \n",
              "                       [[-0.0857]],\n",
              "              \n",
              "                       [[-0.1061]],\n",
              "              \n",
              "                       [[ 0.0272]],\n",
              "              \n",
              "                       [[-0.0890]],\n",
              "              \n",
              "                       [[ 0.0865]],\n",
              "              \n",
              "                       [[ 0.2096]],\n",
              "              \n",
              "                       [[ 0.0661]],\n",
              "              \n",
              "                       [[-0.1611]],\n",
              "              \n",
              "                       [[ 0.1046]],\n",
              "              \n",
              "                       [[-0.0032]],\n",
              "              \n",
              "                       [[-0.1809]],\n",
              "              \n",
              "                       [[ 0.2228]],\n",
              "              \n",
              "                       [[-0.1051]],\n",
              "              \n",
              "                       [[ 0.2362]]],\n",
              "              \n",
              "              \n",
              "                      [[[-0.1289]],\n",
              "              \n",
              "                       [[-0.1634]],\n",
              "              \n",
              "                       [[ 0.3884]],\n",
              "              \n",
              "                       [[ 0.2583]],\n",
              "              \n",
              "                       [[-0.0032]],\n",
              "              \n",
              "                       [[-0.0729]],\n",
              "              \n",
              "                       [[-0.0602]],\n",
              "              \n",
              "                       [[ 0.4295]],\n",
              "              \n",
              "                       [[ 0.3387]],\n",
              "              \n",
              "                       [[-0.0868]],\n",
              "              \n",
              "                       [[ 0.2357]],\n",
              "              \n",
              "                       [[-0.0280]],\n",
              "              \n",
              "                       [[ 0.1518]],\n",
              "              \n",
              "                       [[-0.0681]],\n",
              "              \n",
              "                       [[ 0.2845]],\n",
              "              \n",
              "                       [[ 0.1156]]],\n",
              "              \n",
              "              \n",
              "                      [[[-0.1188]],\n",
              "              \n",
              "                       [[-0.0174]],\n",
              "              \n",
              "                       [[-0.2928]],\n",
              "              \n",
              "                       [[-0.1765]],\n",
              "              \n",
              "                       [[-0.1696]],\n",
              "              \n",
              "                       [[ 0.0292]],\n",
              "              \n",
              "                       [[-0.1777]],\n",
              "              \n",
              "                       [[ 0.2380]],\n",
              "              \n",
              "                       [[ 0.0280]],\n",
              "              \n",
              "                       [[-0.1941]],\n",
              "              \n",
              "                       [[-0.3658]],\n",
              "              \n",
              "                       [[ 0.0590]],\n",
              "              \n",
              "                       [[-0.0291]],\n",
              "              \n",
              "                       [[ 0.3194]],\n",
              "              \n",
              "                       [[-0.2281]],\n",
              "              \n",
              "                       [[ 0.1631]]],\n",
              "              \n",
              "              \n",
              "                      [[[ 0.2685]],\n",
              "              \n",
              "                       [[-0.2275]],\n",
              "              \n",
              "                       [[-0.1017]],\n",
              "              \n",
              "                       [[-0.1077]],\n",
              "              \n",
              "                       [[-0.0714]],\n",
              "              \n",
              "                       [[-0.1050]],\n",
              "              \n",
              "                       [[-0.0029]],\n",
              "              \n",
              "                       [[ 0.1554]],\n",
              "              \n",
              "                       [[-0.1513]],\n",
              "              \n",
              "                       [[ 0.3424]],\n",
              "              \n",
              "                       [[-0.4521]],\n",
              "              \n",
              "                       [[ 0.1325]],\n",
              "              \n",
              "                       [[-0.0302]],\n",
              "              \n",
              "                       [[-0.4486]],\n",
              "              \n",
              "                       [[-0.3139]],\n",
              "              \n",
              "                       [[-0.1910]]],\n",
              "              \n",
              "              \n",
              "                      [[[-0.1301]],\n",
              "              \n",
              "                       [[-0.1477]],\n",
              "              \n",
              "                       [[ 0.2871]],\n",
              "              \n",
              "                       [[-0.0041]],\n",
              "              \n",
              "                       [[-0.3459]],\n",
              "              \n",
              "                       [[-0.0320]],\n",
              "              \n",
              "                       [[ 0.1869]],\n",
              "              \n",
              "                       [[-0.2583]],\n",
              "              \n",
              "                       [[-0.1820]],\n",
              "              \n",
              "                       [[-0.2470]],\n",
              "              \n",
              "                       [[ 0.1439]],\n",
              "              \n",
              "                       [[ 0.1665]],\n",
              "              \n",
              "                       [[ 0.2920]],\n",
              "              \n",
              "                       [[-0.0975]],\n",
              "              \n",
              "                       [[ 0.0962]],\n",
              "              \n",
              "                       [[-0.1295]]],\n",
              "              \n",
              "              \n",
              "                      [[[ 0.0626]],\n",
              "              \n",
              "                       [[-0.0325]],\n",
              "              \n",
              "                       [[ 0.0087]],\n",
              "              \n",
              "                       [[-0.3171]],\n",
              "              \n",
              "                       [[-0.3991]],\n",
              "              \n",
              "                       [[ 0.1969]],\n",
              "              \n",
              "                       [[ 0.1230]],\n",
              "              \n",
              "                       [[-0.1736]],\n",
              "              \n",
              "                       [[ 0.1040]],\n",
              "              \n",
              "                       [[-0.2649]],\n",
              "              \n",
              "                       [[ 0.2536]],\n",
              "              \n",
              "                       [[ 0.2094]],\n",
              "              \n",
              "                       [[-0.0278]],\n",
              "              \n",
              "                       [[ 0.0911]],\n",
              "              \n",
              "                       [[ 0.0677]],\n",
              "              \n",
              "                       [[ 0.0731]]],\n",
              "              \n",
              "              \n",
              "                      [[[ 0.1676]],\n",
              "              \n",
              "                       [[ 0.0219]],\n",
              "              \n",
              "                       [[ 0.0960]],\n",
              "              \n",
              "                       [[ 0.0843]],\n",
              "              \n",
              "                       [[ 0.1348]],\n",
              "              \n",
              "                       [[ 0.0121]],\n",
              "              \n",
              "                       [[ 0.0076]],\n",
              "              \n",
              "                       [[-0.0312]],\n",
              "              \n",
              "                       [[ 0.1105]],\n",
              "              \n",
              "                       [[-0.1629]],\n",
              "              \n",
              "                       [[-0.0149]],\n",
              "              \n",
              "                       [[ 0.0589]],\n",
              "              \n",
              "                       [[-0.1448]],\n",
              "              \n",
              "                       [[-0.2435]],\n",
              "              \n",
              "                       [[ 0.0069]],\n",
              "              \n",
              "                       [[ 0.1487]]],\n",
              "              \n",
              "              \n",
              "                      [[[-0.0717]],\n",
              "              \n",
              "                       [[-0.1721]],\n",
              "              \n",
              "                       [[ 0.0076]],\n",
              "              \n",
              "                       [[ 0.1518]],\n",
              "              \n",
              "                       [[ 0.2072]],\n",
              "              \n",
              "                       [[-0.2116]],\n",
              "              \n",
              "                       [[ 0.2157]],\n",
              "              \n",
              "                       [[-0.0986]],\n",
              "              \n",
              "                       [[-0.0665]],\n",
              "              \n",
              "                       [[ 0.0019]],\n",
              "              \n",
              "                       [[-0.0132]],\n",
              "              \n",
              "                       [[-0.2161]],\n",
              "              \n",
              "                       [[-0.1578]],\n",
              "              \n",
              "                       [[ 0.1492]],\n",
              "              \n",
              "                       [[-0.2722]],\n",
              "              \n",
              "                       [[ 0.2251]]],\n",
              "              \n",
              "              \n",
              "                      [[[ 0.4192]],\n",
              "              \n",
              "                       [[-0.2179]],\n",
              "              \n",
              "                       [[-0.1430]],\n",
              "              \n",
              "                       [[-0.1997]],\n",
              "              \n",
              "                       [[-0.0428]],\n",
              "              \n",
              "                       [[-0.2739]],\n",
              "              \n",
              "                       [[ 0.1187]],\n",
              "              \n",
              "                       [[-0.3368]],\n",
              "              \n",
              "                       [[-0.3262]],\n",
              "              \n",
              "                       [[-0.0265]],\n",
              "              \n",
              "                       [[-0.2236]],\n",
              "              \n",
              "                       [[ 0.2818]],\n",
              "              \n",
              "                       [[ 0.2236]],\n",
              "              \n",
              "                       [[-0.4811]],\n",
              "              \n",
              "                       [[ 0.1612]],\n",
              "              \n",
              "                       [[-0.3106]]],\n",
              "              \n",
              "              \n",
              "                      [[[ 0.3350]],\n",
              "              \n",
              "                       [[ 0.3028]],\n",
              "              \n",
              "                       [[-0.1371]],\n",
              "              \n",
              "                       [[-0.1695]],\n",
              "              \n",
              "                       [[-0.2847]],\n",
              "              \n",
              "                       [[ 0.0517]],\n",
              "              \n",
              "                       [[-0.2325]],\n",
              "              \n",
              "                       [[-0.2981]],\n",
              "              \n",
              "                       [[-0.0761]],\n",
              "              \n",
              "                       [[ 0.1382]],\n",
              "              \n",
              "                       [[ 0.0362]],\n",
              "              \n",
              "                       [[ 0.3472]],\n",
              "              \n",
              "                       [[ 0.3751]],\n",
              "              \n",
              "                       [[-0.4646]],\n",
              "              \n",
              "                       [[-0.1107]],\n",
              "              \n",
              "                       [[-0.1083]]],\n",
              "              \n",
              "              \n",
              "                      [[[-0.1317]],\n",
              "              \n",
              "                       [[-0.1212]],\n",
              "              \n",
              "                       [[-0.0385]],\n",
              "              \n",
              "                       [[-0.1582]],\n",
              "              \n",
              "                       [[-0.0514]],\n",
              "              \n",
              "                       [[ 0.2627]],\n",
              "              \n",
              "                       [[-0.0997]],\n",
              "              \n",
              "                       [[-0.2423]],\n",
              "              \n",
              "                       [[-0.1044]],\n",
              "              \n",
              "                       [[-0.1816]],\n",
              "              \n",
              "                       [[ 0.1919]],\n",
              "              \n",
              "                       [[ 0.2160]],\n",
              "              \n",
              "                       [[-0.1520]],\n",
              "              \n",
              "                       [[-0.3955]],\n",
              "              \n",
              "                       [[-0.2298]],\n",
              "              \n",
              "                       [[-0.1071]]],\n",
              "              \n",
              "              \n",
              "                      [[[-0.0502]],\n",
              "              \n",
              "                       [[-0.1556]],\n",
              "              \n",
              "                       [[ 0.3133]],\n",
              "              \n",
              "                       [[-0.0837]],\n",
              "              \n",
              "                       [[-0.3650]],\n",
              "              \n",
              "                       [[ 0.2959]],\n",
              "              \n",
              "                       [[-0.2938]],\n",
              "              \n",
              "                       [[-0.0143]],\n",
              "              \n",
              "                       [[ 0.1847]],\n",
              "              \n",
              "                       [[-0.1065]],\n",
              "              \n",
              "                       [[ 0.1477]],\n",
              "              \n",
              "                       [[-0.0227]],\n",
              "              \n",
              "                       [[ 0.0625]],\n",
              "              \n",
              "                       [[-0.0976]],\n",
              "              \n",
              "                       [[ 0.0669]],\n",
              "              \n",
              "                       [[ 0.0277]]],\n",
              "              \n",
              "              \n",
              "                      [[[ 0.2699]],\n",
              "              \n",
              "                       [[ 0.1010]],\n",
              "              \n",
              "                       [[ 0.0808]],\n",
              "              \n",
              "                       [[-0.2024]],\n",
              "              \n",
              "                       [[ 0.1928]],\n",
              "              \n",
              "                       [[-0.0130]],\n",
              "              \n",
              "                       [[-0.0965]],\n",
              "              \n",
              "                       [[-0.2898]],\n",
              "              \n",
              "                       [[ 0.2025]],\n",
              "              \n",
              "                       [[ 0.1333]],\n",
              "              \n",
              "                       [[-0.1045]],\n",
              "              \n",
              "                       [[-0.1908]],\n",
              "              \n",
              "                       [[-0.2825]],\n",
              "              \n",
              "                       [[ 0.2454]],\n",
              "              \n",
              "                       [[ 0.0898]],\n",
              "              \n",
              "                       [[ 0.1651]]],\n",
              "              \n",
              "              \n",
              "                      [[[-0.1950]],\n",
              "              \n",
              "                       [[-0.3064]],\n",
              "              \n",
              "                       [[ 0.0846]],\n",
              "              \n",
              "                       [[ 0.1432]],\n",
              "              \n",
              "                       [[-0.0775]],\n",
              "              \n",
              "                       [[ 0.2164]],\n",
              "              \n",
              "                       [[ 0.2787]],\n",
              "              \n",
              "                       [[ 0.0167]],\n",
              "              \n",
              "                       [[ 0.2153]],\n",
              "              \n",
              "                       [[ 0.1662]],\n",
              "              \n",
              "                       [[-0.0875]],\n",
              "              \n",
              "                       [[ 0.0602]],\n",
              "              \n",
              "                       [[-0.0640]],\n",
              "              \n",
              "                       [[-0.0868]],\n",
              "              \n",
              "                       [[-0.1974]],\n",
              "              \n",
              "                       [[-0.0018]]],\n",
              "              \n",
              "              \n",
              "                      [[[-0.2767]],\n",
              "              \n",
              "                       [[ 0.0868]],\n",
              "              \n",
              "                       [[ 0.2439]],\n",
              "              \n",
              "                       [[ 0.1809]],\n",
              "              \n",
              "                       [[ 0.2607]],\n",
              "              \n",
              "                       [[-0.0739]],\n",
              "              \n",
              "                       [[-0.1099]],\n",
              "              \n",
              "                       [[ 0.2323]],\n",
              "              \n",
              "                       [[ 0.3094]],\n",
              "              \n",
              "                       [[-0.1835]],\n",
              "              \n",
              "                       [[ 0.0440]],\n",
              "              \n",
              "                       [[-0.0467]],\n",
              "              \n",
              "                       [[ 0.2095]],\n",
              "              \n",
              "                       [[ 0.0172]],\n",
              "              \n",
              "                       [[-0.1168]],\n",
              "              \n",
              "                       [[-0.1850]]],\n",
              "              \n",
              "              \n",
              "                      [[[-0.4254]],\n",
              "              \n",
              "                       [[-0.0632]],\n",
              "              \n",
              "                       [[ 0.4800]],\n",
              "              \n",
              "                       [[-0.0376]],\n",
              "              \n",
              "                       [[-0.1351]],\n",
              "              \n",
              "                       [[ 0.2220]],\n",
              "              \n",
              "                       [[ 0.1969]],\n",
              "              \n",
              "                       [[ 0.0037]],\n",
              "              \n",
              "                       [[ 0.3825]],\n",
              "              \n",
              "                       [[ 0.0064]],\n",
              "              \n",
              "                       [[ 0.0996]],\n",
              "              \n",
              "                       [[-0.2807]],\n",
              "              \n",
              "                       [[-0.0573]],\n",
              "              \n",
              "                       [[ 0.2898]],\n",
              "              \n",
              "                       [[ 0.2935]],\n",
              "              \n",
              "                       [[ 0.0635]]],\n",
              "              \n",
              "              \n",
              "                      [[[-0.1738]],\n",
              "              \n",
              "                       [[-0.3278]],\n",
              "              \n",
              "                       [[-0.0725]],\n",
              "              \n",
              "                       [[-0.1718]],\n",
              "              \n",
              "                       [[ 0.3195]],\n",
              "              \n",
              "                       [[-0.1593]],\n",
              "              \n",
              "                       [[ 0.2766]],\n",
              "              \n",
              "                       [[-0.1994]],\n",
              "              \n",
              "                       [[ 0.1987]],\n",
              "              \n",
              "                       [[ 0.0562]],\n",
              "              \n",
              "                       [[-0.3012]],\n",
              "              \n",
              "                       [[ 0.0104]],\n",
              "              \n",
              "                       [[-0.2060]],\n",
              "              \n",
              "                       [[ 0.1379]],\n",
              "              \n",
              "                       [[ 0.1553]],\n",
              "              \n",
              "                       [[ 0.1506]]],\n",
              "              \n",
              "              \n",
              "                      [[[-0.2821]],\n",
              "              \n",
              "                       [[ 0.2287]],\n",
              "              \n",
              "                       [[-0.2248]],\n",
              "              \n",
              "                       [[-0.0868]],\n",
              "              \n",
              "                       [[-0.3017]],\n",
              "              \n",
              "                       [[ 0.0578]],\n",
              "              \n",
              "                       [[ 0.2013]],\n",
              "              \n",
              "                       [[ 0.2107]],\n",
              "              \n",
              "                       [[ 0.0456]],\n",
              "              \n",
              "                       [[-0.0574]],\n",
              "              \n",
              "                       [[ 0.2349]],\n",
              "              \n",
              "                       [[ 0.2190]],\n",
              "              \n",
              "                       [[-0.0357]],\n",
              "              \n",
              "                       [[ 0.3667]],\n",
              "              \n",
              "                       [[ 0.0024]],\n",
              "              \n",
              "                       [[-0.1510]]],\n",
              "              \n",
              "              \n",
              "                      [[[ 0.0518]],\n",
              "              \n",
              "                       [[ 0.1782]],\n",
              "              \n",
              "                       [[ 0.1007]],\n",
              "              \n",
              "                       [[ 0.0442]],\n",
              "              \n",
              "                       [[ 0.4398]],\n",
              "              \n",
              "                       [[ 0.1399]],\n",
              "              \n",
              "                       [[-0.0671]],\n",
              "              \n",
              "                       [[-0.2206]],\n",
              "              \n",
              "                       [[ 0.2916]],\n",
              "              \n",
              "                       [[ 0.0907]],\n",
              "              \n",
              "                       [[ 0.1370]],\n",
              "              \n",
              "                       [[-0.4050]],\n",
              "              \n",
              "                       [[ 0.0646]],\n",
              "              \n",
              "                       [[ 0.1803]],\n",
              "              \n",
              "                       [[-0.2463]],\n",
              "              \n",
              "                       [[ 0.0086]]],\n",
              "              \n",
              "              \n",
              "                      [[[ 0.2908]],\n",
              "              \n",
              "                       [[-0.1536]],\n",
              "              \n",
              "                       [[-0.2388]],\n",
              "              \n",
              "                       [[-0.1533]],\n",
              "              \n",
              "                       [[-0.1292]],\n",
              "              \n",
              "                       [[-0.0340]],\n",
              "              \n",
              "                       [[ 0.3585]],\n",
              "              \n",
              "                       [[-0.2803]],\n",
              "              \n",
              "                       [[-0.1977]],\n",
              "              \n",
              "                       [[ 0.2215]],\n",
              "              \n",
              "                       [[-0.1418]],\n",
              "              \n",
              "                       [[ 0.1329]],\n",
              "              \n",
              "                       [[-0.4000]],\n",
              "              \n",
              "                       [[ 0.0632]],\n",
              "              \n",
              "                       [[-0.0712]],\n",
              "              \n",
              "                       [[ 0.2484]]],\n",
              "              \n",
              "              \n",
              "                      [[[-0.0672]],\n",
              "              \n",
              "                       [[ 0.1312]],\n",
              "              \n",
              "                       [[ 0.3465]],\n",
              "              \n",
              "                       [[ 0.1126]],\n",
              "              \n",
              "                       [[-0.3576]],\n",
              "              \n",
              "                       [[ 0.0159]],\n",
              "              \n",
              "                       [[-0.2220]],\n",
              "              \n",
              "                       [[ 0.1278]],\n",
              "              \n",
              "                       [[-0.0603]],\n",
              "              \n",
              "                       [[-0.2054]],\n",
              "              \n",
              "                       [[ 0.0223]],\n",
              "              \n",
              "                       [[ 0.2410]],\n",
              "              \n",
              "                       [[ 0.0935]],\n",
              "              \n",
              "                       [[-0.3361]],\n",
              "              \n",
              "                       [[-0.2449]],\n",
              "              \n",
              "                       [[-0.2987]]],\n",
              "              \n",
              "              \n",
              "                      [[[ 0.1645]],\n",
              "              \n",
              "                       [[ 0.1042]],\n",
              "              \n",
              "                       [[-0.0045]],\n",
              "              \n",
              "                       [[-0.2771]],\n",
              "              \n",
              "                       [[-0.0054]],\n",
              "              \n",
              "                       [[-0.1253]],\n",
              "              \n",
              "                       [[ 0.1676]],\n",
              "              \n",
              "                       [[ 0.0663]],\n",
              "              \n",
              "                       [[-0.1846]],\n",
              "              \n",
              "                       [[ 0.1093]],\n",
              "              \n",
              "                       [[-0.0552]],\n",
              "              \n",
              "                       [[ 0.1977]],\n",
              "              \n",
              "                       [[ 0.2997]],\n",
              "              \n",
              "                       [[-0.1886]],\n",
              "              \n",
              "                       [[-0.2194]],\n",
              "              \n",
              "                       [[-0.1839]]],\n",
              "              \n",
              "              \n",
              "                      [[[-0.2534]],\n",
              "              \n",
              "                       [[ 0.0144]],\n",
              "              \n",
              "                       [[ 0.1561]],\n",
              "              \n",
              "                       [[ 0.2315]],\n",
              "              \n",
              "                       [[ 0.3057]],\n",
              "              \n",
              "                       [[ 0.0292]],\n",
              "              \n",
              "                       [[-0.0369]],\n",
              "              \n",
              "                       [[ 0.1944]],\n",
              "              \n",
              "                       [[ 0.1842]],\n",
              "              \n",
              "                       [[ 0.2944]],\n",
              "              \n",
              "                       [[ 0.2204]],\n",
              "              \n",
              "                       [[-0.0248]],\n",
              "              \n",
              "                       [[-0.0889]],\n",
              "              \n",
              "                       [[ 0.3954]],\n",
              "              \n",
              "                       [[ 0.0560]],\n",
              "              \n",
              "                       [[ 0.2073]]],\n",
              "              \n",
              "              \n",
              "                      [[[ 0.1225]],\n",
              "              \n",
              "                       [[-0.2336]],\n",
              "              \n",
              "                       [[ 0.0065]],\n",
              "              \n",
              "                       [[ 0.3111]],\n",
              "              \n",
              "                       [[ 0.2558]],\n",
              "              \n",
              "                       [[ 0.2201]],\n",
              "              \n",
              "                       [[ 0.1810]],\n",
              "              \n",
              "                       [[ 0.1516]],\n",
              "              \n",
              "                       [[-0.0187]],\n",
              "              \n",
              "                       [[-0.1688]],\n",
              "              \n",
              "                       [[ 0.0339]],\n",
              "              \n",
              "                       [[-0.0834]],\n",
              "              \n",
              "                       [[-0.2775]],\n",
              "              \n",
              "                       [[ 0.1824]],\n",
              "              \n",
              "                       [[-0.0186]],\n",
              "              \n",
              "                       [[-0.0956]]],\n",
              "              \n",
              "              \n",
              "                      [[[-0.1428]],\n",
              "              \n",
              "                       [[ 0.1082]],\n",
              "              \n",
              "                       [[-0.0131]],\n",
              "              \n",
              "                       [[ 0.1329]],\n",
              "              \n",
              "                       [[ 0.1646]],\n",
              "              \n",
              "                       [[-0.0046]],\n",
              "              \n",
              "                       [[-0.2366]],\n",
              "              \n",
              "                       [[ 0.2151]],\n",
              "              \n",
              "                       [[-0.3359]],\n",
              "              \n",
              "                       [[ 0.0754]],\n",
              "              \n",
              "                       [[ 0.1270]],\n",
              "              \n",
              "                       [[ 0.2399]],\n",
              "              \n",
              "                       [[ 0.0540]],\n",
              "              \n",
              "                       [[ 0.4091]],\n",
              "              \n",
              "                       [[ 0.1509]],\n",
              "              \n",
              "                       [[ 0.1747]]],\n",
              "              \n",
              "              \n",
              "                      [[[-0.2265]],\n",
              "              \n",
              "                       [[-0.2297]],\n",
              "              \n",
              "                       [[ 0.0667]],\n",
              "              \n",
              "                       [[ 0.2343]],\n",
              "              \n",
              "                       [[-0.1396]],\n",
              "              \n",
              "                       [[ 0.0336]],\n",
              "              \n",
              "                       [[ 0.0013]],\n",
              "              \n",
              "                       [[-0.1552]],\n",
              "              \n",
              "                       [[ 0.1882]],\n",
              "              \n",
              "                       [[ 0.3082]],\n",
              "              \n",
              "                       [[-0.2408]],\n",
              "              \n",
              "                       [[-0.2809]],\n",
              "              \n",
              "                       [[ 0.1726]],\n",
              "              \n",
              "                       [[-0.0233]],\n",
              "              \n",
              "                       [[-0.0218]],\n",
              "              \n",
              "                       [[ 0.1260]]],\n",
              "              \n",
              "              \n",
              "                      [[[-0.2791]],\n",
              "              \n",
              "                       [[ 0.1187]],\n",
              "              \n",
              "                       [[ 0.1038]],\n",
              "              \n",
              "                       [[-0.1723]],\n",
              "              \n",
              "                       [[-0.3415]],\n",
              "              \n",
              "                       [[ 0.1997]],\n",
              "              \n",
              "                       [[-0.1596]],\n",
              "              \n",
              "                       [[ 0.1763]],\n",
              "              \n",
              "                       [[ 0.0886]],\n",
              "              \n",
              "                       [[-0.3931]],\n",
              "              \n",
              "                       [[ 0.3669]],\n",
              "              \n",
              "                       [[ 0.2101]],\n",
              "              \n",
              "                       [[ 0.2185]],\n",
              "              \n",
              "                       [[ 0.0354]],\n",
              "              \n",
              "                       [[-0.1069]],\n",
              "              \n",
              "                       [[ 0.0399]]],\n",
              "              \n",
              "              \n",
              "                      [[[ 0.3215]],\n",
              "              \n",
              "                       [[-0.3128]],\n",
              "              \n",
              "                       [[ 0.1653]],\n",
              "              \n",
              "                       [[ 0.0099]],\n",
              "              \n",
              "                       [[ 0.1964]],\n",
              "              \n",
              "                       [[ 0.0125]],\n",
              "              \n",
              "                       [[ 0.1560]],\n",
              "              \n",
              "                       [[-0.1439]],\n",
              "              \n",
              "                       [[-0.2263]],\n",
              "              \n",
              "                       [[ 0.2170]],\n",
              "              \n",
              "                       [[-0.0860]],\n",
              "              \n",
              "                       [[ 0.1439]],\n",
              "              \n",
              "                       [[ 0.1660]],\n",
              "              \n",
              "                       [[ 0.1772]],\n",
              "              \n",
              "                       [[-0.1304]],\n",
              "              \n",
              "                       [[ 0.0229]]]], device='cuda:0')),\n",
              "             ('skip_conn.bias',\n",
              "              tensor([ 0.5040, -0.2840,  0.0380,  0.4077,  0.0969,  0.2365, -0.3805, -0.4063,\n",
              "                       0.0092,  0.0037,  0.6106,  0.1025,  0.1832, -0.3643,  0.1821,  0.0403,\n",
              "                      -0.0995,  0.3361, -0.0137,  0.3354,  0.1755, -0.1448, -0.5526, -0.6062,\n",
              "                       0.0215,  0.1583, -0.1411,  0.1065,  0.5460, -0.4034,  0.5173, -0.0816],\n",
              "                     device='cuda:0'))])"
            ]
          },
          "metadata": {},
          "execution_count": 35
        }
      ],
      "source": [
        "model.state_dict()"
      ]
    },
    {
      "cell_type": "markdown",
      "metadata": {
        "id": "TJtgedn1DqBO"
      },
      "source": [
        "## Сохранение и загрузка модели"
      ]
    },
    {
      "cell_type": "markdown",
      "metadata": {
        "id": "pZE9ANs-D2zw"
      },
      "source": [
        "### Сохранение только весов модели"
      ]
    },
    {
      "cell_type": "code",
      "execution_count": 36,
      "metadata": {
        "id": "MDNMqPggD7PF"
      },
      "outputs": [],
      "source": [
        "# torch.save(model.state_dict(), 'cnn_model_dict.ckpt')\n",
        "torch.save(model.state_dict(), 'resnet_model_dict.ckpt')"
      ]
    },
    {
      "cell_type": "code",
      "execution_count": 37,
      "metadata": {
        "colab": {
          "base_uri": "https://localhost:8080/"
        },
        "id": "rXEAULXkEQ_E",
        "outputId": "4fdefe52-cdb2-4954-db93-6a2ba694a909"
      },
      "outputs": [
        {
          "output_type": "execute_result",
          "data": {
            "text/plain": [
              "<All keys matched successfully>"
            ]
          },
          "metadata": {},
          "execution_count": 37
        }
      ],
      "source": [
        "# создаём модель\n",
        "# model = LinearModel()\n",
        "# model = CNNModel()\n",
        "model = ResNetModel()\n",
        "# загружаем в неё веса\n",
        "model.load_state_dict(torch.load('resnet_model_dict.ckpt', weights_only=True))"
      ]
    },
    {
      "cell_type": "markdown",
      "metadata": {
        "id": "7bjjUtkJD9FW"
      },
      "source": [
        "### Сохранение модели вместе с весами"
      ]
    },
    {
      "cell_type": "code",
      "execution_count": 38,
      "metadata": {
        "id": "7YCM7NuoDdQx"
      },
      "outputs": [],
      "source": [
        "# torch.save(model, 'cnn_model.ckpt')\n",
        "torch.save(model, 'resnet_model.ckpt')"
      ]
    },
    {
      "cell_type": "code",
      "execution_count": 40,
      "metadata": {
        "colab": {
          "base_uri": "https://localhost:8080/"
        },
        "id": "1OMHZrJ8Dwcl",
        "outputId": "541adb2b-b1dc-43bb-f629-481d1dffc828"
      },
      "outputs": [
        {
          "output_type": "stream",
          "name": "stderr",
          "text": [
            "<ipython-input-40-747a19e7b15e>:3: FutureWarning: You are using `torch.load` with `weights_only=False` (the current default value), which uses the default pickle module implicitly. It is possible to construct malicious pickle data which will execute arbitrary code during unpickling (See https://github.com/pytorch/pytorch/blob/main/SECURITY.md#untrusted-models for more details). In a future release, the default value for `weights_only` will be flipped to `True`. This limits the functions that could be executed during unpickling. Arbitrary objects will no longer be allowed to be loaded via this mode unless they are explicitly allowlisted by the user via `torch.serialization.add_safe_globals`. We recommend you start setting `weights_only=True` for any use case where you don't have full control of the loaded file. Please open an issue on GitHub for any issues related to this experimental feature.\n",
            "  model = torch.load('resnet_model.ckpt')\n"
          ]
        }
      ],
      "source": [
        "# загружаем готовую модель (вместе с весами)\n",
        "# model = torch.load('cnn_model.ckpt')\n",
        "model = torch.load('resnet_model.ckpt')"
      ]
    },
    {
      "cell_type": "markdown",
      "metadata": {
        "id": "a8RzswJ38-EU"
      },
      "source": [
        "## Выводы и идеи"
      ]
    },
    {
      "cell_type": "code",
      "execution_count": null,
      "metadata": {
        "id": "_yaw0XH29FJs"
      },
      "outputs": [],
      "source": [
        "# ВЫВОДЫ\n",
        "\n",
        "# 0. Использование GPU вместо CPU очень сильно ускоряет процесс обучения модели. Правда в Google Colab не всегда получается сменить среду выполнения.\n",
        "#\n",
        "# 1. Accuracy_test (kernel_size=5, padding=2) = 0.977, Accuracy_test (kernel_size=3, padding=1) = 0.975.\n",
        "#    Изменение размера свёрточного фильтра в 1-м свёрточном слое с 5х5 до 3х3 практически не изменило метрику Accuracy.\n",
        "#    Можно оставить 5х5.\n",
        "#\n",
        "# 2. Accuracy_test (num_epochs = 10) = 0.977\n",
        "#    Accuracy_test (num_epochs = 20) = 0,986\n",
        "#    Accuracy_test (num_epochs = 5) = 0,986\n",
        "#    Увеличение количества эпох с 10 до 20 привело к увеличению времени обучения модели и улучшению метрики Accuracy_test.\n",
        "#    Уменьшение количества эпох с 10 до 5 привело к уменьшению времени обучения модели. Метрики Accuracy_train и Accuracy_test практически сравнялись.\n",
        "#\n",
        "# 3. Accuracy_test (Learning_rate = 0.001) = 0.47. Модель не обучилась.\n",
        "#    Accuracy_test (Learning_rate = 0.01) = 0.89.\n",
        "#    Accuracy_test (Learning_rate = 0.05) = 0.961.\n",
        "#    Accuracy_test (Learning_rate = 0.1) = 0.977\n",
        "#    Accuracy_test (Learning_rate = 0.5) = 0.989.\n",
        "#    Accuracy_test (Learning_rate = 1.0) = 0.992.\n",
        "# 4. Для ускорения времени обучения модели можно уменьшить num_epochs до 5. Судя по графику функции потерь, выход на плато происходит в районе 5000-го шага.\n",
        "#    Дополнительно можно написать метод, который будет считать Accuracy_test во время обучения модели и останавливать процесс обучения при достижении значения Accuracy_test определённого необходимого уровня (например, 0.98).\n",
        "#\n",
        "# 5. ResNet\n",
        "# ResNet — это сокращенное название для Residual Network (дословно  — «остаточная сеть»).\n",
        "# ResNet (Residual Network) – модель, использующая идею residual learning.\n",
        "# В рамках этой идеи к выходу каждого слоя прибавляется его вход, таким образом слой выучивает не полноценное новое преобразование входа, а добавочное (остаточное – residual) преобразование.\n",
        "# Попытался реализовать ResNet сеть в классе class ResNetModel(nn.Module). Вроде обучается. Модель сохранена в файле resnet_model.ckpt.\n",
        "\n",
        "# В ноутбуке сохранен лучший (как мне показалось) подбор параметров для обучения и тестирования модели CNNModel, при котором метрики качества максимальные."
      ]
    },
    {
      "cell_type": "markdown",
      "metadata": {
        "id": "UFpmKa59YaiR"
      },
      "source": []
    }
  ],
  "metadata": {
    "accelerator": "GPU",
    "colab": {
      "collapsed_sections": [
        "tR3xKAceYbTp",
        "fFF6UBwtteja",
        "JZjxpcI28qhm"
      ],
      "gpuType": "T4",
      "provenance": []
    },
    "kernelspec": {
      "display_name": "Python 3",
      "name": "python3"
    },
    "language_info": {
      "name": "python"
    }
  },
  "nbformat": 4,
  "nbformat_minor": 0
}